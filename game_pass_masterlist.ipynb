{
 "cells": [
  {
   "cell_type": "code",
   "execution_count": 2,
   "metadata": {},
   "outputs": [],
   "source": [
    "import pandas as pd\n",
    "import numpy as np"
   ]
  },
  {
   "cell_type": "markdown",
   "metadata": {},
   "source": [
    "# 1. ***Xbox Game Pass - Master List***"
   ]
  },
  {
   "cell_type": "markdown",
   "metadata": {},
   "source": [
    "https://docs.google.com/spreadsheets/d/1kspw-4paT-eE5-mrCrc4R9tg70lH2ZTFrJOUmOtOytg/edit#gid=0"
   ]
  },
  {
   "cell_type": "markdown",
   "metadata": {},
   "source": [
    "# 2. ***Merge*** dos dados"
   ]
  },
  {
   "cell_type": "code",
   "execution_count": 3,
   "metadata": {},
   "outputs": [],
   "source": [
    "master_list = pd.read_csv(\n",
    "    r'C:\\Users\\damod\\OneDrive\\Área de Trabalho\\Projetos Python\\gamepass\\Xbox Game Pass Master List  - Master List.csv'\n",
    ")"
   ]
  },
  {
   "cell_type": "code",
   "execution_count": 4,
   "metadata": {},
   "outputs": [],
   "source": [
    "# Ajuste dos nomes das colunas:\n",
    "\n",
    "master_list.columns = master_list.iloc[0]\n",
    "master_list = master_list.drop(0, axis=0)\n",
    "master_list.index = range(master_list.shape[0])"
   ]
  },
  {
   "cell_type": "code",
   "execution_count": 5,
   "metadata": {},
   "outputs": [],
   "source": [
    "master_list = master_list.drop(\n",
    "    columns=[\n",
    "        'Completion', 'Xbox Series X|S', 'Owner Notes', \n",
    "        'ESRB Content Descriptors', 'Community Notes'\n",
    "    ]\n",
    ")"
   ]
  },
  {
   "cell_type": "code",
   "execution_count": 6,
   "metadata": {},
   "outputs": [],
   "source": [
    "master_list.iloc[2]['Status'] = 'Coming Soon'\n",
    "master_list.iloc[3]['Status'] = 'Coming Soon'"
   ]
  },
  {
   "cell_type": "code",
   "execution_count": 7,
   "metadata": {},
   "outputs": [],
   "source": [
    "# Excluem-se as observações de jogos que ainda não entraram no serviço:\n",
    "\n",
    "master_list = master_list.loc[~master_list['Status'].str.contains('Coming Soon')]\n",
    "master_list.index = range(master_list.shape[0])"
   ]
  },
  {
   "cell_type": "code",
   "execution_count": 9,
   "metadata": {},
   "outputs": [],
   "source": [
    "master_list.to_csv(\n",
    "    r'C:\\Users\\damod\\OneDrive\\Área de Trabalho\\Projetos Python\\gamepass\\data\\mastelist.csv',\n",
    "    index=False\n",
    ")"
   ]
  }
 ],
 "metadata": {
  "kernelspec": {
   "display_name": "Python 3",
   "language": "python",
   "name": "python3"
  },
  "language_info": {
   "codemirror_mode": {
    "name": "ipython",
    "version": 3
   },
   "file_extension": ".py",
   "mimetype": "text/x-python",
   "name": "python",
   "nbconvert_exporter": "python",
   "pygments_lexer": "ipython3",
   "version": "3.11.6"
  }
 },
 "nbformat": 4,
 "nbformat_minor": 2
}
