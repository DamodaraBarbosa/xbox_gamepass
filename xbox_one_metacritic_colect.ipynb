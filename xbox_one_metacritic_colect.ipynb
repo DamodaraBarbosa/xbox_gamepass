{
 "cells": [
  {
   "cell_type": "code",
   "execution_count": 1,
   "metadata": {},
   "outputs": [],
   "source": [
    "import sys\n",
    "sys.path.append(r'C:\\Users\\damod\\OneDrive\\Área de Trabalho\\Projetos Python\\dataprocessing')"
   ]
  },
  {
   "cell_type": "markdown",
   "metadata": {},
   "source": [
    "Importanção das bibliotecas"
   ]
  },
  {
   "cell_type": "code",
   "execution_count": 2,
   "metadata": {},
   "outputs": [],
   "source": [
    "from concurrent.futures import ThreadPoolExecutor\n",
    "import dataprocessing.datacolect as dc\n",
    "import re\n",
    "import pandas as pd\n",
    "import numpy as np"
   ]
  },
  {
   "cell_type": "markdown",
   "metadata": {},
   "source": [
    "# 1. Sobre a coleta no ***Metacritic***"
   ]
  },
  {
   "cell_type": "markdown",
   "metadata": {},
   "source": [
    "# 2. Rotina de ***scraping***"
   ]
  },
  {
   "cell_type": "markdown",
   "metadata": {},
   "source": [
    "## 2.1. Coleta dos ***hrefs*** para acessar as ***urls*** dos jogos"
   ]
  },
  {
   "cell_type": "markdown",
   "metadata": {},
   "source": [
    "É necessário coletar o *link* para cada jogo em cada uma das páginas do ***Metacritic*** referentes ao ***Xbox One***. Há, para essa plataforma, 319 páginas."
   ]
  },
  {
   "cell_type": "markdown",
   "metadata": {},
   "source": [
    "A ***url*** abaixo será usada em cada iteração, adicionando-se apenas o número correto da página."
   ]
  },
  {
   "cell_type": "code",
   "execution_count": 3,
   "metadata": {},
   "outputs": [],
   "source": [
    "url = ('https://www.metacritic.com/browse/game/xbox-one/all/all-time/new/'\n",
    "       '?platform=xbox-one&releaseYearMin=1910&releaseYearMax=2023&page=')"
   ]
  },
  {
   "cell_type": "code",
   "execution_count": 4,
   "metadata": {},
   "outputs": [],
   "source": [
    "def get_last_page(url: str):\n",
    "    soup_class = dc.Soup(url)\n",
    "    soup = soup_class.get_soup()\n",
    "    scrape = dc.Scrape()\n",
    "\n",
    "    last_page_soup = scrape.find_elements(\n",
    "        tag='span', timeout=0, soup=soup,\n",
    "        tag_class=('c-navigationPagination_itemButtonContent u-flexbox u-flexbox-alignCenter u-flexbox-justifyCenter')\n",
    "    )\n",
    "    last_page = int(re.sub(r'^\\s+|\\s+$', '', last_page_soup[-2].get_text(), flags=re.MULTILINE))\n",
    "\n",
    "    return last_page"
   ]
  },
  {
   "cell_type": "code",
   "execution_count": 5,
   "metadata": {},
   "outputs": [],
   "source": [
    "last_page = get_last_page(url)"
   ]
  },
  {
   "cell_type": "code",
   "execution_count": 6,
   "metadata": {},
   "outputs": [],
   "source": [
    "def get_hrefs(url: str, last_page: int, init_page: int=1):\n",
    "    hrefs = list() # lista em que o href de cada jogo será inserido.\n",
    "\n",
    "    for page in range(init_page, last_page+1): # Para iterar até a última página devemos adicionar 1.\n",
    "        # Instancia-se o objeto BeautifulSoup:\n",
    "        soup_class = dc.Soup(url + str(page))\n",
    "        soup = soup_class.get_soup()\n",
    "\n",
    "        # Classe para realização do scraping:\n",
    "        scrape = dc.Scrape()\n",
    "\n",
    "        # Objeto BeautifulSoup com os cartões para os jogos na página:\n",
    "        game_cards = scrape.find_elements(\n",
    "            tag='div', tag_class='c-finderProductCard c-finderProductCard-game',\n",
    "            timeout=0.05, soup=soup\n",
    "        )\n",
    "        # Itera-se cada cartão para obtenção do href:\n",
    "        for game in game_cards:\n",
    "            href = scrape.find_element(\n",
    "                tag='a', tag_class='c-finderProductCard_container g-color-gray80 u-grid',\n",
    "                timeout=0, soup=game\n",
    "            )\n",
    "            href = href['href']\n",
    "            hrefs.append(href)\n",
    "    return hrefs"
   ]
  },
  {
   "cell_type": "code",
   "execution_count": 7,
   "metadata": {},
   "outputs": [],
   "source": [
    "with ThreadPoolExecutor(max_workers=3) as executor:\n",
    "    games_hrefs = executor.submit(get_hrefs, url, last_page)\n",
    "games_hrefs = games_hrefs.result()"
   ]
  },
  {
   "cell_type": "markdown",
   "metadata": {},
   "source": [
    "## 2.2. Coleta das informações sobre os jogos"
   ]
  },
  {
   "cell_type": "code",
   "execution_count": 8,
   "metadata": {},
   "outputs": [],
   "source": [
    "metacritic_url = 'https://www.metacritic.com'"
   ]
  },
  {
   "cell_type": "code",
   "execution_count": 11,
   "metadata": {},
   "outputs": [],
   "source": [
    "def get_data_games(hrefs: list, metacritic_url: str):\n",
    "    data_games = list()\n",
    "    data_game = dict()\n",
    "    \n",
    "    for href in hrefs:\n",
    "        try:\n",
    "            soup_class = dc.Soup(metacritic_url + str(href))\n",
    "            soup = soup_class.get_soup()\n",
    "            scrape = dc.Scrape()\n",
    "\n",
    "            name_soup = scrape.find_element(\n",
    "                tag='div', timeout=0.1, soup=soup,\n",
    "                tag_class='c-productHero_title g-inner-spacing-bottom-medium g-outer-spacing-top-medium'\n",
    "            )\n",
    "            name = re.sub(r'^\\s+|\\s+$', '', name_soup.get_text(), flags=re.MULTILINE)\n",
    "        except UnboundLocalError:\n",
    "            pass\n",
    "        try:\n",
    "            developer_soup = scrape.find_elements(tag='li', timeout=0, soup=soup, tag_class='c-gameDetails_listItem g-color-gray70 u-inline-block')[-1]\n",
    "            publisher_soup = scrape.find_elements(tag='span', timeout=0, soup=soup, tag_class='g-outer-spacing-left-medium-fluid g-color-gray70 u-block')[-1]\n",
    "            developer = re.sub(r'^\\s+|\\s+$', '', developer_soup.get_text(), flags=re.MULTILINE)\n",
    "            publisher = re.sub(r'^\\s+|\\s+$', '', publisher_soup.get_text(), flags=re.MULTILINE)\n",
    "        except IndexError:\n",
    "            developer = np.NaN\n",
    "            publisher = np.NaN\n",
    "        try:\n",
    "            tbd_soup = scrape.find_element(\n",
    "                tag='span', timeout=0, soup=soup,\n",
    "                tag_class=('c-productHero_scoreRemainder u-inline-block g-color-gray80 '\n",
    "                           'g-text-xsmall g-outer-spacing-bottom-large')\n",
    "            )\n",
    "            tbd = re.sub(r'^\\s+|\\s+$', '', tbd_soup.get_text(), flags=re.MULTILINE)\n",
    "            condition = ['Critic reviews are not available', 'Available after 4 critic reviews']\n",
    "\n",
    "            if tbd in condition:\n",
    "                score = 'tbd'\n",
    "        except (AttributeError, UnboundLocalError) as error:\n",
    "            try:\n",
    "                score_box_soup = scrape.find_element(\n",
    "                                tag='div', timeout=0, soup=soup,\n",
    "                                tag_class=('c-productScoreInfo_scoreNumber u-float-right')\n",
    "                    )\n",
    "                score_soup = scrape.find_element(\n",
    "                    tag='span', timeout=0, soup=score_box_soup           \n",
    "                )\n",
    "                score = int(score_soup.get_text())\n",
    "            except (AttributeError, ValueError) as error:\n",
    "                score = np.NaN\n",
    "\n",
    "        data_game['name'] = name\n",
    "        data_game['publisher'] = publisher\n",
    "        data_game['developer'] = developer\n",
    "        data_game['metascore'] = score\n",
    "\n",
    "        data_games.append(data_game.copy())\n",
    "    return data_games"
   ]
  },
  {
   "cell_type": "code",
   "execution_count": 12,
   "metadata": {},
   "outputs": [
    {
     "name": "stdout",
     "output_type": "stream",
     "text": [
      "500 Internal Server Error\n"
     ]
    },
    {
     "ename": "UnboundLocalError",
     "evalue": "cannot access local variable 'soup' where it is not associated with a value",
     "output_type": "error",
     "traceback": [
      "\u001b[1;31m---------------------------------------------------------------------------\u001b[0m",
      "\u001b[1;31mUnboundLocalError\u001b[0m                         Traceback (most recent call last)",
      "\u001b[1;32mc:\\Users\\damod\\OneDrive\\Área de Trabalho\\Projetos Python\\gamepass\\xbox_one_metacritic_colect.ipynb Cell 17\u001b[0m line \u001b[0;36m2\n\u001b[0;32m      <a href='vscode-notebook-cell:/c%3A/Users/damod/OneDrive/%C3%81rea%20de%20Trabalho/Projetos%20Python/gamepass/xbox_one_metacritic_colect.ipynb#X22sZmlsZQ%3D%3D?line=0'>1</a>\u001b[0m \u001b[39mwith\u001b[39;00m ThreadPoolExecutor(max_workers\u001b[39m=\u001b[39m\u001b[39m3\u001b[39m) \u001b[39mas\u001b[39;00m executor:\n\u001b[1;32m----> <a href='vscode-notebook-cell:/c%3A/Users/damod/OneDrive/%C3%81rea%20de%20Trabalho/Projetos%20Python/gamepass/xbox_one_metacritic_colect.ipynb#X22sZmlsZQ%3D%3D?line=1'>2</a>\u001b[0m     metacritic \u001b[39m=\u001b[39m get_data_games(games_hrefs, metacritic_url)\n",
      "\u001b[1;32mc:\\Users\\damod\\OneDrive\\Área de Trabalho\\Projetos Python\\gamepass\\xbox_one_metacritic_colect.ipynb Cell 17\u001b[0m line \u001b[0;36m7\n\u001b[0;32m      <a href='vscode-notebook-cell:/c%3A/Users/damod/OneDrive/%C3%81rea%20de%20Trabalho/Projetos%20Python/gamepass/xbox_one_metacritic_colect.ipynb#X22sZmlsZQ%3D%3D?line=4'>5</a>\u001b[0m \u001b[39mfor\u001b[39;00m href \u001b[39min\u001b[39;00m hrefs:\n\u001b[0;32m      <a href='vscode-notebook-cell:/c%3A/Users/damod/OneDrive/%C3%81rea%20de%20Trabalho/Projetos%20Python/gamepass/xbox_one_metacritic_colect.ipynb#X22sZmlsZQ%3D%3D?line=5'>6</a>\u001b[0m     soup_class \u001b[39m=\u001b[39m dc\u001b[39m.\u001b[39mSoup(metacritic_url \u001b[39m+\u001b[39m \u001b[39mstr\u001b[39m(href))\n\u001b[1;32m----> <a href='vscode-notebook-cell:/c%3A/Users/damod/OneDrive/%C3%81rea%20de%20Trabalho/Projetos%20Python/gamepass/xbox_one_metacritic_colect.ipynb#X22sZmlsZQ%3D%3D?line=6'>7</a>\u001b[0m     soup \u001b[39m=\u001b[39m soup_class\u001b[39m.\u001b[39;49mget_soup()\n\u001b[0;32m      <a href='vscode-notebook-cell:/c%3A/Users/damod/OneDrive/%C3%81rea%20de%20Trabalho/Projetos%20Python/gamepass/xbox_one_metacritic_colect.ipynb#X22sZmlsZQ%3D%3D?line=7'>8</a>\u001b[0m     scrape \u001b[39m=\u001b[39m dc\u001b[39m.\u001b[39mScrape()\n\u001b[0;32m     <a href='vscode-notebook-cell:/c%3A/Users/damod/OneDrive/%C3%81rea%20de%20Trabalho/Projetos%20Python/gamepass/xbox_one_metacritic_colect.ipynb#X22sZmlsZQ%3D%3D?line=9'>10</a>\u001b[0m     name_soup \u001b[39m=\u001b[39m scrape\u001b[39m.\u001b[39mfind_element(\n\u001b[0;32m     <a href='vscode-notebook-cell:/c%3A/Users/damod/OneDrive/%C3%81rea%20de%20Trabalho/Projetos%20Python/gamepass/xbox_one_metacritic_colect.ipynb#X22sZmlsZQ%3D%3D?line=10'>11</a>\u001b[0m         tag\u001b[39m=\u001b[39m\u001b[39m'\u001b[39m\u001b[39mdiv\u001b[39m\u001b[39m'\u001b[39m, timeout\u001b[39m=\u001b[39m\u001b[39m0.1\u001b[39m, soup\u001b[39m=\u001b[39msoup,\n\u001b[0;32m     <a href='vscode-notebook-cell:/c%3A/Users/damod/OneDrive/%C3%81rea%20de%20Trabalho/Projetos%20Python/gamepass/xbox_one_metacritic_colect.ipynb#X22sZmlsZQ%3D%3D?line=11'>12</a>\u001b[0m         tag_class\u001b[39m=\u001b[39m\u001b[39m'\u001b[39m\u001b[39mc-productHero_title g-inner-spacing-bottom-medium g-outer-spacing-top-medium\u001b[39m\u001b[39m'\u001b[39m\n\u001b[0;32m     <a href='vscode-notebook-cell:/c%3A/Users/damod/OneDrive/%C3%81rea%20de%20Trabalho/Projetos%20Python/gamepass/xbox_one_metacritic_colect.ipynb#X22sZmlsZQ%3D%3D?line=12'>13</a>\u001b[0m     )\n",
      "File \u001b[1;32m~\\OneDrive\\Área de Trabalho\\Projetos Python\\dataprocessing\\dataprocessing\\datacolect.py:61\u001b[0m, in \u001b[0;36mSoup.get_soup\u001b[1;34m(self)\u001b[0m\n\u001b[0;32m     58\u001b[0m \u001b[39mexcept\u001b[39;00m URLError \u001b[39mas\u001b[39;00m e:\n\u001b[0;32m     59\u001b[0m     \u001b[39mprint\u001b[39m(e\u001b[39m.\u001b[39mreason)\n\u001b[1;32m---> 61\u001b[0m \u001b[39mreturn\u001b[39;00m soup\n",
      "\u001b[1;31mUnboundLocalError\u001b[0m: cannot access local variable 'soup' where it is not associated with a value"
     ]
    }
   ],
   "source": [
    "with ThreadPoolExecutor(max_workers=3) as executor:\n",
    "    metacritic = get_data_games(games_hrefs, metacritic_url)"
   ]
  },
  {
   "cell_type": "code",
   "execution_count": null,
   "metadata": {},
   "outputs": [],
   "source": [
    "metacritic = pd.DataFrame(metacritic)"
   ]
  },
  {
   "cell_type": "code",
   "execution_count": null,
   "metadata": {},
   "outputs": [
    {
     "data": {
      "text/plain": [
       "name         0\n",
       "publisher    1\n",
       "developer    1\n",
       "metascore    0\n",
       "dtype: int64"
      ]
     },
     "execution_count": 12,
     "metadata": {},
     "output_type": "execute_result"
    }
   ],
   "source": [
    "metacritic.isnull().sum()"
   ]
  },
  {
   "cell_type": "markdown",
   "metadata": {},
   "source": [
    "# 3. ***Export*** do arquivo *csv*"
   ]
  },
  {
   "cell_type": "code",
   "execution_count": null,
   "metadata": {},
   "outputs": [],
   "source": [
    "metacritic.to_csv('xbox_one_metacritic.csv', index=False)"
   ]
  }
 ],
 "metadata": {
  "kernelspec": {
   "display_name": "Python 3",
   "language": "python",
   "name": "python3"
  },
  "language_info": {
   "codemirror_mode": {
    "name": "ipython",
    "version": 3
   },
   "file_extension": ".py",
   "mimetype": "text/x-python",
   "name": "python",
   "nbconvert_exporter": "python",
   "pygments_lexer": "ipython3",
   "version": "3.11.6"
  },
  "orig_nbformat": 4
 },
 "nbformat": 4,
 "nbformat_minor": 2
}
