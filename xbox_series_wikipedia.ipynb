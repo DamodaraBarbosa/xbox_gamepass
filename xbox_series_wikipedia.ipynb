{
 "cells": [
  {
   "cell_type": "code",
   "execution_count": 1,
   "metadata": {},
   "outputs": [],
   "source": [
    "import sys\n",
    "sys.path.append(r'C:\\Users\\damod\\OneDrive\\Área de Trabalho\\Projetos Python\\dataprocessing')"
   ]
  },
  {
   "cell_type": "markdown",
   "metadata": {},
   "source": [
    "Importação das bibliotecas"
   ]
  },
  {
   "cell_type": "code",
   "execution_count": 2,
   "metadata": {},
   "outputs": [],
   "source": [
    "import dataprocessing.datacolect as dc\n",
    "import re\n",
    "import pandas as pd\n",
    "import numpy as np"
   ]
  },
  {
   "cell_type": "markdown",
   "metadata": {},
   "source": [
    "# 1. Sobre coleta dos dados na Wikipedia"
   ]
  },
  {
   "cell_type": "markdown",
   "metadata": {},
   "source": [
    "# 2. Rotina de ***scraping***"
   ]
  },
  {
   "cell_type": "code",
   "execution_count": 3,
   "metadata": {},
   "outputs": [],
   "source": [
    "url = 'https://en.wikipedia.org/wiki/List_of_Xbox_Series_X_and_Series_S_games'"
   ]
  },
  {
   "cell_type": "code",
   "execution_count": 4,
   "metadata": {},
   "outputs": [],
   "source": [
    "soup_class = dc.Soup(url)\n",
    "soup = soup_class.get_soup()"
   ]
  },
  {
   "cell_type": "code",
   "execution_count": 5,
   "metadata": {},
   "outputs": [],
   "source": [
    "scrape = dc.Scrape()"
   ]
  },
  {
   "cell_type": "code",
   "execution_count": 6,
   "metadata": {},
   "outputs": [],
   "source": [
    "games_table = scrape.find_elements(\n",
    "    tag='tbody', soup=soup,\n",
    ")\n",
    "games_table = games_table[1]"
   ]
  },
  {
   "cell_type": "code",
   "execution_count": 7,
   "metadata": {},
   "outputs": [],
   "source": [
    "games_data = scrape.find_elements(\n",
    "    tag='tr', soup=games_table,\n",
    ")\n",
    "games_data = games_data[2:]"
   ]
  },
  {
   "cell_type": "code",
   "execution_count": 10,
   "metadata": {},
   "outputs": [],
   "source": [
    "def scraping_games(games: list, init_info: int=1, last_info: int=3):\n",
    "    \"\"\"\n",
    "    Realiza o scraping das informações dos jogos presentes na tabela da lista da Wikipedia.\n",
    "    \"\"\"\n",
    "    scraped_game = dict()\n",
    "    scraped_games = list()\n",
    "\n",
    "    for game in games:\n",
    "        try:\n",
    "            name_soup = scrape.find_element(tag='th', soup=game)\n",
    "\n",
    "            if name_soup == None:\n",
    "                name_soup = scrape.find_element(tag='td', soup=game)\n",
    "            name = re.sub(r'\\n', '', name_soup.get_text())\n",
    "            scraped_game['name'] = name\n",
    "            another_infos = scrape.find_elements(tag='td', soup=game)\n",
    "            games_info = list()\n",
    "\n",
    "            for another_info in another_infos[init_info:last_info]:\n",
    "                info = re.sub(r'\\n', '', another_info.get_text())\n",
    "                games_info.append(info)\n",
    "            scraped_game['infos'] = games_info\n",
    "            scraped_games.append(scraped_game.copy())\n",
    "        except AttributeError as e:\n",
    "            print(f\"Attribute Error: {e}\")\n",
    "    return scraped_games\n"
   ]
  },
  {
   "cell_type": "code",
   "execution_count": 11,
   "metadata": {},
   "outputs": [],
   "source": [
    "wiki_xbox_series = pd.DataFrame(scraping_games(games_data))"
   ]
  },
  {
   "cell_type": "code",
   "execution_count": 12,
   "metadata": {},
   "outputs": [],
   "source": [
    "wiki_xbox_series['developer'] = wiki_xbox_series['infos'].apply(lambda x: x[0])\n",
    "wiki_xbox_series['publisher'] = wiki_xbox_series['infos'].apply(lambda x: x[1])\n",
    "wiki_xbox_series = wiki_xbox_series.drop(columns='infos')"
   ]
  },
  {
   "cell_type": "code",
   "execution_count": 15,
   "metadata": {},
   "outputs": [],
   "source": [
    "wiki_xbox_series.to_csv(r'C:\\Users\\damod\\OneDrive\\Área de Trabalho\\Projetos Python\\gamepass\\data\\xbox_series_wikipedia.csv', index=False)"
   ]
  }
 ],
 "metadata": {
  "kernelspec": {
   "display_name": "Python 3",
   "language": "python",
   "name": "python3"
  },
  "language_info": {
   "codemirror_mode": {
    "name": "ipython",
    "version": 3
   },
   "file_extension": ".py",
   "mimetype": "text/x-python",
   "name": "python",
   "nbconvert_exporter": "python",
   "pygments_lexer": "ipython3",
   "version": "3.11.6"
  }
 },
 "nbformat": 4,
 "nbformat_minor": 2
}
