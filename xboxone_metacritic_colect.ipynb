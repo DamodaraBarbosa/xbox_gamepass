{
 "cells": [
  {
   "cell_type": "markdown",
   "metadata": {},
   "source": [
    "Importanção das bibliotecas"
   ]
  },
  {
   "cell_type": "code",
   "execution_count": 1,
   "metadata": {},
   "outputs": [],
   "source": [
    "import dataprocessing.datacolect as dc\n",
    "from bs4 import BeautifulSoup\n",
    "from urllib.request import urlopen, Request\n",
    "from urllib.error import HTTPError, URLError\n",
    "import pandas as pd\n",
    "import numpy as np"
   ]
  },
  {
   "cell_type": "markdown",
   "metadata": {},
   "source": [
    "# 1. Sobre a coleta no ***Metacritic***"
   ]
  },
  {
   "cell_type": "markdown",
   "metadata": {},
   "source": [
    "# 2. Rotina de ***scraping***"
   ]
  },
  {
   "cell_type": "code",
   "execution_count": 2,
   "metadata": {},
   "outputs": [],
   "source": [
    "url = (\"https://www.metacritic.com/browse/game/xbox-one/all/all-time/new/\"\n",
    "      \"?platform=xbox-one&releaseYearMin=1910&releaseYearMax=2023&page=\")"
   ]
  },
  {
   "cell_type": "markdown",
   "metadata": {},
   "source": [
    "É necessário coletar o *link* para cada jogo em cada uma das páginas do ***Metacritic*** referentes ao ***Xbox One***. Há, para essa plataforma, 319 páginas."
   ]
  },
  {
   "cell_type": "code",
   "execution_count": 4,
   "metadata": {},
   "outputs": [
    {
     "name": "stdout",
     "output_type": "stream",
     "text": [
      "https://www.metacritic.com/browse/game/xbox-one/all/all-time/new/?platform=xbox-one&releaseYearMin=1910&releaseYearMax=2023&page=1\n",
      "https://www.metacritic.com/browse/game/xbox-one/all/all-time/new/?platform=xbox-one&releaseYearMin=1910&releaseYearMax=2023&page=2\n"
     ]
    }
   ],
   "source": [
    "for page in range(1, 3):\n",
    "    # soup = dc.Soup(url + str(page))\n",
    "    # soup = soup.get_soup()\n",
    "    # print(soup)\n",
    "    print(url + str(page))"
   ]
  },
  {
   "cell_type": "code",
   "execution_count": null,
   "metadata": {},
   "outputs": [],
   "source": [
    "# for page in range(1, 2):\n",
    "#     soup = dc.Soup(url + str(page))\n",
    "#     soup = soup.get_soup()\n",
    "\n",
    "#     scrape = dc.Scrape()\n",
    "#     game_cards = scrape.find_elements(\n",
    "#         tag='div', tag_class='c-finderProductCard c-finderProductCard-game',\n",
    "#         timeout=0.2, soup=soup\n",
    "#     )\n",
    "\n",
    "#     for game in game_cards:\n",
    "#         game_links = scrape.find_element(\n",
    "#             tag='a', tag_class='c-finderProductCard_container g-color-gray80 u-grid',\n",
    "#             timeout=0.2, soup=game_cards\n",
    "#         )\n",
    "#         print(game_links)\n"
   ]
  },
  {
   "cell_type": "code",
   "execution_count": null,
   "metadata": {},
   "outputs": [],
   "source": []
  }
 ],
 "metadata": {
  "kernelspec": {
   "display_name": "Python 3",
   "language": "python",
   "name": "python3"
  },
  "language_info": {
   "codemirror_mode": {
    "name": "ipython",
    "version": 3
   },
   "file_extension": ".py",
   "mimetype": "text/x-python",
   "name": "python",
   "nbconvert_exporter": "python",
   "pygments_lexer": "ipython3",
   "version": "3.11.5"
  },
  "orig_nbformat": 4
 },
 "nbformat": 4,
 "nbformat_minor": 2
}
