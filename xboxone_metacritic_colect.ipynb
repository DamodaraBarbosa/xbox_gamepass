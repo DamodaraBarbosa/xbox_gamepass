{
 "cells": [
  {
   "cell_type": "markdown",
   "metadata": {},
   "source": [
    "Importanção das bibliotecas"
   ]
  },
  {
   "cell_type": "code",
   "execution_count": null,
   "metadata": {},
   "outputs": [],
   "source": [
    "import dataprocessing.datacolect as dc\n",
    "import re\n",
    "import pandas as pd\n",
    "import numpy as np"
   ]
  },
  {
   "cell_type": "markdown",
   "metadata": {},
   "source": [
    "# 1. Sobre a coleta no ***Metacritic***"
   ]
  },
  {
   "cell_type": "markdown",
   "metadata": {},
   "source": [
    "# 2. Rotina de ***scraping***"
   ]
  },
  {
   "cell_type": "markdown",
   "metadata": {},
   "source": [
    "## 2.1. Coleta dos ***hrefs*** para acessar as ***urls*** dos jogos"
   ]
  },
  {
   "cell_type": "markdown",
   "metadata": {},
   "source": [
    "É necessário coletar o *link* para cada jogo em cada uma das páginas do ***Metacritic*** referentes ao ***Xbox One***. Há, para essa plataforma, 319 páginas."
   ]
  },
  {
   "cell_type": "markdown",
   "metadata": {},
   "source": [
    "A ***url*** abaixo será usada em cada iteração, adicionando-se apenas o número correto da página."
   ]
  },
  {
   "cell_type": "code",
   "execution_count": null,
   "metadata": {},
   "outputs": [],
   "source": [
    "url = (\"https://www.metacritic.com/browse/game/xbox-one/all/all-time/new/\"\n",
    "      \"?platform=xbox-one&releaseYearMin=1910&releaseYearMax=2023&page=\")"
   ]
  },
  {
   "cell_type": "code",
   "execution_count": 3,
   "metadata": {},
   "outputs": [],
   "source": [
    "games_hrefs = list() # lista em que o href de cada jogo será inserido.\n",
    "\n",
    "for page in range(1, 320):\n",
    "    # Instancia-se o objeto BeautifulSoup:\n",
    "    soup_class = dc.Soup(url + str(page))\n",
    "    soup = soup_class.get_soup()\n",
    "\n",
    "    # Classe para realização do scraping:\n",
    "    scrape = dc.Scrape()\n",
    "\n",
    "    # Objeto BeautifulSoup com os cartões para os jogos na página:\n",
    "    game_cards = scrape.find_elements(\n",
    "        tag='div', tag_class='c-finderProductCard c-finderProductCard-game',\n",
    "        timeout=0.05, soup=soup\n",
    "    )\n",
    "    # Itera-se cada cartão para obtenção do href:\n",
    "    for game in game_cards:\n",
    "        href = scrape.find_element(\n",
    "            tag='a', tag_class='c-finderProductCard_container g-color-gray80 u-grid',\n",
    "            timeout=0, soup=game\n",
    "        )\n",
    "        href = href['href']\n",
    "        games_hrefs.append(href)"
   ]
  },
  {
   "cell_type": "markdown",
   "metadata": {},
   "source": [
    "## 2.2. Coleta das informações sobre os jogos"
   ]
  },
  {
   "cell_type": "code",
   "execution_count": null,
   "metadata": {},
   "outputs": [],
   "source": [
    "metacritic_url = 'https://www.metacritic.com'"
   ]
  },
  {
   "cell_type": "code",
   "execution_count": null,
   "metadata": {},
   "outputs": [],
   "source": [
    "data_games = list()\n",
    "data_game = dict()"
   ]
  },
  {
   "cell_type": "code",
   "execution_count": null,
   "metadata": {},
   "outputs": [],
   "source": [
    "for href in games_hrefs:\n",
    "    soup = dc.Soup(metacritic_url + str(href))\n",
    "    soup = soup.get_soup()\n",
    "\n",
    "    name = scrape.find_element(\n",
    "        tag='div', timeout=0.1, soup=soup,\n",
    "        tag_class='c-productHero_title g-inner-spacing-bottom-medium g-outer-spacing-top-medium'\n",
    "    )\n",
    "    name = re.sub(r'^\\s+|\\s+$', '', name.get_text(), flags=re.MULTILINE)\n",
    "    \n",
    "    try:\n",
    "        release_date = scrape.find_element(\n",
    "            tag='span', timeout=0, soup=soup,\n",
    "            tag_class='g-outer-spacing-left-medium-fluid g-color-gray70 u-block'\n",
    "        )\n",
    "        release_date = release_date.get_text()\n",
    "    except AttributeError:\n",
    "        release_date = np.NaN\n",
    "\n",
    "    try: \n",
    "        developer_div = scrape.find_element(\n",
    "            tag='div', timeout=0, soup=soup,\n",
    "            tag_class='c-gameDetails_Developer u-flexbox u-flexbox-row'\n",
    "        )\n",
    "        developer_soup = scrape.find_element(\n",
    "            tag='li', timeout=0, soup=developer_div,\n",
    "            tag_class='c-gameDetails_listItem g-color-gray70 u-inline-block'\n",
    "        )\n",
    "        developer = re.sub(r'^\\s+|\\s+$', '', developer_soup.get_text(), flags=re.MULTILINE)\n",
    "    except AttributeError:\n",
    "        developer = np.NaN\n",
    "\n",
    "    try:    \n",
    "        publisher_div = scrape.find_element(\n",
    "            tag='div', timeout=0, soup=soup,\n",
    "            tag_class='c-gameDetails_Distributor u-flexbox u-flexbox-row'\n",
    "        )\n",
    "        publisher_soup = scrape.find_element(\n",
    "            tag='span', timeout=0, soup=publisher_div,\n",
    "            tag_class='g-outer-spacing-left-medium-fluid g-color-gray70 u-block'\n",
    "        )\n",
    "        publisher = re.sub(r'^\\s+|\\s+$', '', publisher_soup.get_text(), flags=re.MULTILINE)\n",
    "    except AttributeError:\n",
    "        publisher = np.NaN\n",
    "    \n",
    "    try:\n",
    "        genre = scrape.find_element(\n",
    "            tag='div', timeout=0, soup=soup,\n",
    "            tag_class='c-globalButton c-globalButton-small c-globalButton-primary'\n",
    "        )\n",
    "        genre = re.sub(r'^\\s+|\\s+$', '', genre.get_text(), flags=re.MULTILINE)\n",
    "    except AttributeError:\n",
    "        genre = np.NaN\n",
    "\n",
    "    score = scrape.find_element(\n",
    "        tag='div', timeout=0, soup=soup,\n",
    "        tag_class=('c-siteReviewScore u-flexbox-column u-flexbox-alignCenter u-flexbox-justifyCenter g-text-bold c-siteRevie'\n",
    "                   'wScore_tbdUser g-bg-white g-border-gray60 c-siteReviewScore_user g-color-gray90 c-siteReviewScore_medium')\n",
    "    )\n",
    "    score = score.get_text()\n",
    "        \n",
    "    data_game['name'] = name\n",
    "    data_game['release_date'] = release_date\n",
    "    data_game['developer'] = developer\n",
    "    data_game['publisher'] = publisher\n",
    "    data_game['genre'] = genre\n",
    "    data_game['metascore'] = score\n",
    "\n",
    "    data_games.append(data_game.copy())"
   ]
  },
  {
   "cell_type": "code",
   "execution_count": null,
   "metadata": {},
   "outputs": [],
   "source": [
    "metacritic = pd.DataFrame(data_games)"
   ]
  },
  {
   "cell_type": "markdown",
   "metadata": {},
   "source": []
  },
  {
   "cell_type": "code",
   "execution_count": null,
   "metadata": {},
   "outputs": [],
   "source": [
    "metacritic.to_csv('xbox_one_metacritic.csv', index=False)"
   ]
  }
 ],
 "metadata": {
  "kernelspec": {
   "display_name": "Python 3",
   "language": "python",
   "name": "python3"
  },
  "language_info": {
   "codemirror_mode": {
    "name": "ipython",
    "version": 3
   },
   "file_extension": ".py",
   "mimetype": "text/x-python",
   "name": "python",
   "nbconvert_exporter": "python",
   "pygments_lexer": "ipython3",
   "version": "3.11.5"
  },
  "orig_nbformat": 4
 },
 "nbformat": 4,
 "nbformat_minor": 2
}
