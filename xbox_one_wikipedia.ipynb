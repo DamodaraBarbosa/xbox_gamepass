{
 "cells": [
  {
   "cell_type": "code",
   "execution_count": 1,
   "metadata": {},
   "outputs": [],
   "source": [
    "import sys\n",
    "sys.path.append(r'C:\\Users\\damod\\OneDrive\\Área de Trabalho\\Projetos Python\\dataprocessing')"
   ]
  },
  {
   "cell_type": "markdown",
   "metadata": {},
   "source": [
    "Importação das bibliotecas"
   ]
  },
  {
   "cell_type": "code",
   "execution_count": 2,
   "metadata": {},
   "outputs": [],
   "source": [
    "import dataprocessing.datacolect as dc\n",
    "import re\n",
    "import pandas as pd\n",
    "import numpy as np"
   ]
  },
  {
   "cell_type": "markdown",
   "metadata": {},
   "source": [
    "# 1. Sobre coleta dos dados na Wikipedia"
   ]
  },
  {
   "cell_type": "markdown",
   "metadata": {},
   "source": [
    "# 2. Rotina de ***scraping***"
   ]
  },
  {
   "cell_type": "markdown",
   "metadata": {},
   "source": [
    "A lista de jogos do ***Xbox One*** na ***Wikipedia*** é dividida em jogos de ***A-L e M-Z***. Portanto, as rotinas serão executadas em paralelo neste ***notebook***."
   ]
  },
  {
   "cell_type": "code",
   "execution_count": 3,
   "metadata": {},
   "outputs": [],
   "source": [
    "urls = [\n",
    "    r'https://en.wikipedia.org/wiki/List_of_Xbox_One_games_(A%E2%80%93L)',\n",
    "    r'https://en.wikipedia.org/wiki/List_of_Xbox_One_games_(M%E2%80%93Z)'\n",
    "]"
   ]
  },
  {
   "cell_type": "code",
   "execution_count": 4,
   "metadata": {},
   "outputs": [],
   "source": [
    "soups = dict()\n",
    "\n",
    "for index, url in enumerate(urls):\n",
    "    soup_class = dc.Soup(url)\n",
    "    soups[index] = soup_class.get_soup()"
   ]
  },
  {
   "cell_type": "code",
   "execution_count": 5,
   "metadata": {},
   "outputs": [],
   "source": [
    "scrape = dc.Scrape()"
   ]
  },
  {
   "cell_type": "code",
   "execution_count": 6,
   "metadata": {},
   "outputs": [],
   "source": [
    "games_tables = dict()\n",
    "\n",
    "for key, soup in soups.items():\n",
    "    games_table = scrape.find_elements(\n",
    "    tag='tbody', soup=soup,\n",
    "    )\n",
    "    games_table = games_table[1]\n",
    "    games_tables[key] = games_table"
   ]
  },
  {
   "cell_type": "code",
   "execution_count": 7,
   "metadata": {},
   "outputs": [],
   "source": [
    "games_datas = dict()\n",
    "\n",
    "for key, games_table in games_tables.items():\n",
    "    games_data = scrape.find_elements(\n",
    "    tag='tr', soup=games_table,\n",
    "    )\n",
    "    games_data = games_data[2:]\n",
    "    games_datas[key] = games_data"
   ]
  },
  {
   "cell_type": "code",
   "execution_count": 13,
   "metadata": {},
   "outputs": [],
   "source": [
    "def scraping_games(games: list, init_info: int=2, last_info: int=4):\n",
    "    \"\"\"\n",
    "    Realiza o scraping das informações dos jogos presentes na tabela da lista da Wikipedia.\n",
    "    \"\"\"\n",
    "    scraped_game = dict()\n",
    "    scraped_games = list()\n",
    "\n",
    "    for game in games:\n",
    "        try:\n",
    "            name_soup = scrape.find_element(tag='th', soup=game)\n",
    "\n",
    "            if name_soup == None:\n",
    "                name_soup = scrape.find_element(tag='td', soup=game)\n",
    "            name = re.sub(r'\\n', '', name_soup.get_text())\n",
    "            scraped_game['name'] = name\n",
    "            another_infos = scrape.find_elements(tag='td', soup=game)\n",
    "            games_info = list()\n",
    "\n",
    "            for another_info in another_infos[init_info:last_info]:\n",
    "                info = re.sub(r'\\n', '', another_info.get_text())\n",
    "                games_info.append(info)\n",
    "            scraped_game['infos'] = games_info\n",
    "            scraped_games.append(scraped_game.copy())\n",
    "        except AttributeError as e:\n",
    "            print(f\"Attribute Error: {e}\")\n",
    "    return scraped_games"
   ]
  },
  {
   "cell_type": "code",
   "execution_count": 14,
   "metadata": {},
   "outputs": [],
   "source": [
    "wiki_games = dict()\n",
    "\n",
    "for key, games in games_datas.items():\n",
    "   wiki_games[key] = scraping_games(games)"
   ]
  },
  {
   "cell_type": "code",
   "execution_count": 15,
   "metadata": {},
   "outputs": [],
   "source": [
    "games_from_a_to_l = pd.DataFrame(wiki_games[0])\n",
    "games_from_m_to_z = pd.DataFrame(wiki_games[1])"
   ]
  },
  {
   "cell_type": "code",
   "execution_count": 16,
   "metadata": {},
   "outputs": [],
   "source": [
    "wiki_xbox_one = pd.concat([games_from_a_to_l, games_from_m_to_z])"
   ]
  },
  {
   "cell_type": "code",
   "execution_count": 17,
   "metadata": {},
   "outputs": [
    {
     "data": {
      "text/plain": [
       "0                                 [Beatshapers, Digerati]\n",
       "1       [One Guy Games, The Quantum Astrophysicists Gu...\n",
       "2                            [EastAsiaSoft, EastAsiaSoft]\n",
       "3                                  [Eko (Interlude), Eko]\n",
       "4                      [Skobbejak Games, Skobbejak Games]\n",
       "                              ...                        \n",
       "1387      [High Voltage Software, GameMill Entertainment]\n",
       "1388                            [Dotemu, Lucasfilm Games]\n",
       "1389           [Frontier Developments, Xbox Game Studios]\n",
       "1390                    [Asobo Studio, Xbox Game Studios]\n",
       "1391                    [Zoë Mode, Majesco Entertainment]\n",
       "Name: infos, Length: 2930, dtype: object"
      ]
     },
     "execution_count": 17,
     "metadata": {},
     "output_type": "execute_result"
    }
   ],
   "source": [
    "wiki_xbox_one['infos']"
   ]
  },
  {
   "cell_type": "code",
   "execution_count": 18,
   "metadata": {},
   "outputs": [],
   "source": [
    "wiki_xbox_one['developer'] = wiki_xbox_one['infos'].apply(lambda x: x[0])\n",
    "wiki_xbox_one['publisher'] = wiki_xbox_one['infos'].apply(lambda x: x[1])\n",
    "wiki_xbox_one = wiki_xbox_one.drop(columns='infos')"
   ]
  },
  {
   "cell_type": "code",
   "execution_count": 20,
   "metadata": {},
   "outputs": [],
   "source": [
    "wiki_xbox_one.to_csv(r'C:\\Users\\damod\\OneDrive\\Área de Trabalho\\Projetos Python\\gamepass\\data\\xbox_one_wikipedia.csv', index=False)"
   ]
  }
 ],
 "metadata": {
  "kernelspec": {
   "display_name": "Python 3",
   "language": "python",
   "name": "python3"
  },
  "language_info": {
   "codemirror_mode": {
    "name": "ipython",
    "version": 3
   },
   "file_extension": ".py",
   "mimetype": "text/x-python",
   "name": "python",
   "nbconvert_exporter": "python",
   "pygments_lexer": "ipython3",
   "version": "3.11.6"
  }
 },
 "nbformat": 4,
 "nbformat_minor": 2
}
