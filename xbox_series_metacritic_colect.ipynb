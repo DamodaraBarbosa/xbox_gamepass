{
 "cells": [
  {
   "cell_type": "code",
   "execution_count": 1,
   "metadata": {},
   "outputs": [],
   "source": [
    "import sys\n",
    "sys.path.append(r'C:\\Users\\damod\\OneDrive\\Área de Trabalho\\Projetos Python\\dataprocessing')"
   ]
  },
  {
   "cell_type": "markdown",
   "metadata": {},
   "source": [
    "Importanção das bibliotecas"
   ]
  },
  {
   "cell_type": "code",
   "execution_count": 2,
   "metadata": {},
   "outputs": [],
   "source": [
    "from concurrent.futures import ThreadPoolExecutor\n",
    "import dataprocessing.datacolect as dc\n",
    "import re\n",
    "import pandas as pd\n",
    "import numpy as np"
   ]
  },
  {
   "cell_type": "markdown",
   "metadata": {},
   "source": [
    "# 1. Sobre a coleta no ***Metacritic***"
   ]
  },
  {
   "cell_type": "markdown",
   "metadata": {},
   "source": [
    "# 2. Rotina de ***scraping***"
   ]
  },
  {
   "cell_type": "markdown",
   "metadata": {},
   "source": [
    "## 2.1. Coleta dos ***hrefs*** para acessar as ***urls*** dos jogos"
   ]
  },
  {
   "cell_type": "markdown",
   "metadata": {},
   "source": [
    "É necessário coletar o *link* para cada jogo em cada uma das páginas do ***Metacritic*** referentes ao ***Xbox One***. Há, para essa plataforma, 319 páginas."
   ]
  },
  {
   "cell_type": "markdown",
   "metadata": {},
   "source": [
    "A ***url*** abaixo será usada em cada iteração, adicionando-se apenas o número correto da página."
   ]
  },
  {
   "cell_type": "code",
   "execution_count": 3,
   "metadata": {},
   "outputs": [],
   "source": [
    "url = ('https://www.metacritic.com/browse/game/xbox-series-x/all/all-time/new/'\n",
    "       '?platform=xbox-series-x&releaseYearMin=1910&releaseYearMax=2023&page=')"
   ]
  },
  {
   "cell_type": "code",
   "execution_count": 4,
   "metadata": {},
   "outputs": [],
   "source": [
    "def get_last_page(url: str):\n",
    "    soup_class = dc.Soup(url)\n",
    "    soup = soup_class.get_soup()\n",
    "    scrape = dc.Scrape()\n",
    "\n",
    "    last_page_soup = scrape.find_elements(\n",
    "        tag='span', timeout=0, soup=soup,\n",
    "        tag_class=('c-navigationPagination_itemButtonContent u-flexbox u-flexbox-alignCenter u-flexbox-justifyCenter')\n",
    "    )\n",
    "    last_page_button = last_page_soup[-2]\n",
    "    last_page = int(re.sub(r'^\\s+|\\s+$', '', last_page_button.get_text(), flags=re.MULTILINE))\n",
    "\n",
    "    return last_page"
   ]
  },
  {
   "cell_type": "code",
   "execution_count": 5,
   "metadata": {},
   "outputs": [],
   "source": [
    "last_page = get_last_page(url)"
   ]
  },
  {
   "cell_type": "code",
   "execution_count": 6,
   "metadata": {},
   "outputs": [],
   "source": [
    "def get_hrefs(url: str, last_page: int, init_page: int=1):\n",
    "    hrefs = list() # lista em que o href de cada jogo será inserido.\n",
    "\n",
    "    for page in range(init_page, last_page+1): # Para iterar até a última página devemos adicionar 1.\n",
    "        # Instancia-se o objeto BeautifulSoup:\n",
    "        soup_class = dc.Soup(url + str(page))\n",
    "        soup = soup_class.get_soup()\n",
    "\n",
    "        # Classe para realização do scraping:\n",
    "        scrape = dc.Scrape()\n",
    "\n",
    "        # Objeto BeautifulSoup com os cartões para os jogos na página:\n",
    "        game_cards = scrape.find_elements(\n",
    "            tag='div', tag_class='c-finderProductCard c-finderProductCard-game',\n",
    "            timeout=0.05, soup=soup\n",
    "        )\n",
    "        # Itera-se cada cartão para obtenção do href:\n",
    "        for game in game_cards:\n",
    "            href = scrape.find_element(\n",
    "                tag='a', tag_class='c-finderProductCard_container g-color-gray80 u-grid',\n",
    "                timeout=0, soup=game\n",
    "            )\n",
    "            href = href['href']\n",
    "            hrefs.append(href)\n",
    "    return hrefs"
   ]
  },
  {
   "cell_type": "code",
   "execution_count": 7,
   "metadata": {},
   "outputs": [],
   "source": [
    "with ThreadPoolExecutor(max_workers=3) as executor:\n",
    "    games_hrefs = executor.submit(get_hrefs, url, last_page)\n",
    "games_hrefs = games_hrefs.result()"
   ]
  },
  {
   "cell_type": "markdown",
   "metadata": {},
   "source": [
    "## 2.2. Coleta das informações sobre os jogos"
   ]
  },
  {
   "cell_type": "code",
   "execution_count": 8,
   "metadata": {},
   "outputs": [],
   "source": [
    "metacritic_url = 'https://www.metacritic.com'"
   ]
  },
  {
   "cell_type": "code",
   "execution_count": 9,
   "metadata": {},
   "outputs": [],
   "source": [
    "def get_data_games(hrefs: list, metacritic_url: str):\n",
    "    data_games = list()\n",
    "    data_game = dict()\n",
    "    \n",
    "    for href in hrefs:\n",
    "        soup_class = dc.Soup(metacritic_url + str(href))\n",
    "        soup = soup_class.get_soup()\n",
    "        scrape = dc.Scrape()\n",
    "\n",
    "        name_soup = scrape.find_element(\n",
    "            tag='div', timeout=0.1, soup=soup,\n",
    "            tag_class='c-productHero_title g-inner-spacing-bottom-medium g-outer-spacing-top-medium'\n",
    "        )\n",
    "        name = re.sub(r'^\\s+|\\s+$', '', name_soup.get_text(), flags=re.MULTILINE)\n",
    "\n",
    "        try:\n",
    "            tbd_soup = scrape.find_element(\n",
    "                tag='span', timeout=0, soup=soup,\n",
    "                tag_class=('c-productHero_scoreRemainder u-inline-block g-color-gray80 '\n",
    "                           'g-text-xsmall g-outer-spacing-bottom-large')\n",
    "            )\n",
    "            tbd = re.sub(r'^\\s+|\\s+$', '', tbd_soup.get_text(), flags=re.MULTILINE)\n",
    "            condition = ['Critic reviews are not available', 'Available after 4 critic reviews']\n",
    "            \n",
    "            if tbd in condition:\n",
    "                score = 'tbd'\n",
    "            else:\n",
    "                pass\n",
    "        except (AttributeError, UnboundLocalError) as error:\n",
    "            try:\n",
    "                score_box_soup = scrape.find_element(\n",
    "                            tag='div', timeout=0, soup=soup,\n",
    "                            tag_class=(\"c-siteReviewScore u-flexbox-column u-flexbox-alignCenter\"\n",
    "                                    \" u-flexbox-justifyCenter g-text-bold c-siteReviewScore_green\"\n",
    "                                    \" g-color-gray90 c-siteReviewScore_medium\")\n",
    "                )\n",
    "                score_soup = scrape.find_element(\n",
    "                    tag='span', timeout=0, soup=score_box_soup           \n",
    "                )\n",
    "                score = int(score_soup.get_text())\n",
    "            except AttributeError:\n",
    "                score = np.NaN\n",
    "        data_game['name'] = name\n",
    "        data_game['metascore'] = score\n",
    "\n",
    "        data_games.append(data_game.copy())\n",
    "    return data_games"
   ]
  },
  {
   "cell_type": "code",
   "execution_count": 10,
   "metadata": {},
   "outputs": [],
   "source": [
    "with ThreadPoolExecutor(max_workers=3) as executor:\n",
    "    metacritic = get_data_games(games_hrefs, metacritic_url)"
   ]
  },
  {
   "cell_type": "code",
   "execution_count": 11,
   "metadata": {},
   "outputs": [],
   "source": [
    "metacritic = pd.DataFrame(metacritic)"
   ]
  },
  {
   "cell_type": "code",
   "execution_count": 12,
   "metadata": {},
   "outputs": [
    {
     "data": {
      "text/html": [
       "<div>\n",
       "<style scoped>\n",
       "    .dataframe tbody tr th:only-of-type {\n",
       "        vertical-align: middle;\n",
       "    }\n",
       "\n",
       "    .dataframe tbody tr th {\n",
       "        vertical-align: top;\n",
       "    }\n",
       "\n",
       "    .dataframe thead th {\n",
       "        text-align: right;\n",
       "    }\n",
       "</style>\n",
       "<table border=\"1\" class=\"dataframe\">\n",
       "  <thead>\n",
       "    <tr style=\"text-align: right;\">\n",
       "      <th></th>\n",
       "      <th>name</th>\n",
       "      <th>metascore</th>\n",
       "    </tr>\n",
       "  </thead>\n",
       "  <tbody>\n",
       "    <tr>\n",
       "      <th>0</th>\n",
       "      <td>Ova Magica</td>\n",
       "      <td>tbd</td>\n",
       "    </tr>\n",
       "    <tr>\n",
       "      <th>1</th>\n",
       "      <td>Smuggler Simulator</td>\n",
       "      <td>tbd</td>\n",
       "    </tr>\n",
       "    <tr>\n",
       "      <th>2</th>\n",
       "      <td>Project Relic</td>\n",
       "      <td>tbd</td>\n",
       "    </tr>\n",
       "    <tr>\n",
       "      <th>3</th>\n",
       "      <td>Arctic Awakening</td>\n",
       "      <td>tbd</td>\n",
       "    </tr>\n",
       "    <tr>\n",
       "      <th>4</th>\n",
       "      <td>Read Only Memories: NEURODIVER</td>\n",
       "      <td>tbd</td>\n",
       "    </tr>\n",
       "    <tr>\n",
       "      <th>...</th>\n",
       "      <td>...</td>\n",
       "      <td>...</td>\n",
       "    </tr>\n",
       "    <tr>\n",
       "      <th>2147</th>\n",
       "      <td>WWE 2K Battlegrounds</td>\n",
       "      <td>85</td>\n",
       "    </tr>\n",
       "    <tr>\n",
       "      <th>2148</th>\n",
       "      <td>Bounty Battle</td>\n",
       "      <td>94</td>\n",
       "    </tr>\n",
       "    <tr>\n",
       "      <th>2149</th>\n",
       "      <td>WRC 9 FIA World Rally Championship</td>\n",
       "      <td>81</td>\n",
       "    </tr>\n",
       "    <tr>\n",
       "      <th>2150</th>\n",
       "      <td>EA SPORTS UFC 4</td>\n",
       "      <td>78</td>\n",
       "    </tr>\n",
       "    <tr>\n",
       "      <th>2151</th>\n",
       "      <td>Broforce</td>\n",
       "      <td>83</td>\n",
       "    </tr>\n",
       "  </tbody>\n",
       "</table>\n",
       "<p>2152 rows × 2 columns</p>\n",
       "</div>"
      ],
      "text/plain": [
       "                                    name metascore\n",
       "0                             Ova Magica       tbd\n",
       "1                     Smuggler Simulator       tbd\n",
       "2                          Project Relic       tbd\n",
       "3                       Arctic Awakening       tbd\n",
       "4         Read Only Memories: NEURODIVER       tbd\n",
       "...                                  ...       ...\n",
       "2147                WWE 2K Battlegrounds        85\n",
       "2148                       Bounty Battle        94\n",
       "2149  WRC 9 FIA World Rally Championship        81\n",
       "2150                     EA SPORTS UFC 4        78\n",
       "2151                            Broforce        83\n",
       "\n",
       "[2152 rows x 2 columns]"
      ]
     },
     "execution_count": 12,
     "metadata": {},
     "output_type": "execute_result"
    }
   ],
   "source": [
    "metacritic"
   ]
  },
  {
   "cell_type": "markdown",
   "metadata": {},
   "source": [
    "# 3. ***Export*** do arquivo *csv*"
   ]
  },
  {
   "cell_type": "code",
   "execution_count": 13,
   "metadata": {},
   "outputs": [
    {
     "data": {
      "text/plain": [
       "array(['tbd', 85, 81, 80, 96, 75, 90, 82, 77, 94, 76, 84, 89, 88, 79, 78,\n",
       "       87, 83, 86, 100, 92, 95, 91, 93, 99, 97, 98], dtype=object)"
      ]
     },
     "execution_count": 13,
     "metadata": {},
     "output_type": "execute_result"
    }
   ],
   "source": [
    "metacritic['metascore'].unique()"
   ]
  },
  {
   "cell_type": "code",
   "execution_count": 14,
   "metadata": {},
   "outputs": [],
   "source": [
    "metacritic.to_csv('xbox_series_metacritic.csv', index=False)"
   ]
  }
 ],
 "metadata": {
  "kernelspec": {
   "display_name": "Python 3",
   "language": "python",
   "name": "python3"
  },
  "language_info": {
   "codemirror_mode": {
    "name": "ipython",
    "version": 3
   },
   "file_extension": ".py",
   "mimetype": "text/x-python",
   "name": "python",
   "nbconvert_exporter": "python",
   "pygments_lexer": "ipython3",
   "version": "3.11.6"
  },
  "orig_nbformat": 4
 },
 "nbformat": 4,
 "nbformat_minor": 2
}
