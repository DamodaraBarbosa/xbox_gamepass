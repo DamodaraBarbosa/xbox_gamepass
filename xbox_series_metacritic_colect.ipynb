{
 "cells": [
  {
   "cell_type": "code",
   "execution_count": 1,
   "metadata": {},
   "outputs": [],
   "source": [
    "import sys\n",
    "sys.path.append(r'C:\\Users\\damod\\OneDrive\\Área de Trabalho\\Projetos Python\\dataprocessing')"
   ]
  },
  {
   "cell_type": "markdown",
   "metadata": {},
   "source": [
    "Importanção das bibliotecas"
   ]
  },
  {
   "cell_type": "code",
   "execution_count": 2,
   "metadata": {},
   "outputs": [],
   "source": [
    "from concurrent.futures import ThreadPoolExecutor\n",
    "import dataprocessing.datacolect as dc\n",
    "import re\n",
    "import pandas as pd\n",
    "import numpy as np"
   ]
  },
  {
   "cell_type": "markdown",
   "metadata": {},
   "source": [
    "# 1. Sobre a coleta no ***Metacritic***"
   ]
  },
  {
   "cell_type": "markdown",
   "metadata": {},
   "source": [
    "# 2. Rotina de ***scraping***"
   ]
  },
  {
   "cell_type": "markdown",
   "metadata": {},
   "source": [
    "## 2.1. Coleta dos ***hrefs*** para acessar as ***urls*** dos jogos"
   ]
  },
  {
   "cell_type": "markdown",
   "metadata": {},
   "source": [
    "É necessário coletar o *link* para cada jogo em cada uma das páginas do ***Metacritic*** referentes ao ***Xbox One***. Há, para essa plataforma, 319 páginas."
   ]
  },
  {
   "cell_type": "markdown",
   "metadata": {},
   "source": [
    "A ***url*** abaixo será usada em cada iteração, adicionando-se apenas o número correto da página."
   ]
  },
  {
   "cell_type": "code",
   "execution_count": 3,
   "metadata": {},
   "outputs": [],
   "source": [
    "url = ('https://www.metacritic.com/browse/game/xbox-series-x/all/all-time/new/'\n",
    "       '?platform=xbox-series-x&releaseYearMin=1910&releaseYearMax=2023&page=')"
   ]
  },
  {
   "cell_type": "code",
   "execution_count": 4,
   "metadata": {},
   "outputs": [],
   "source": [
    "def get_last_page(url: str):\n",
    "    soup_class = dc.Soup(url)\n",
    "    soup = soup_class.get_soup()\n",
    "    scrape = dc.Scrape()\n",
    "\n",
    "    last_page_soup = scrape.find_elements(\n",
    "        tag='span', timeout=0, soup=soup,\n",
    "        tag_class=('c-navigationPagination_itemButtonContent u-flexbox u-flexbox-alignCenter u-flexbox-justifyCenter')\n",
    "    )\n",
    "    last_page_button = last_page_soup[-2]\n",
    "    last_page = int(re.sub(r'^\\s+|\\s+$', '', last_page_button.get_text(), flags=re.MULTILINE))\n",
    "\n",
    "    return last_page"
   ]
  },
  {
   "cell_type": "code",
   "execution_count": 5,
   "metadata": {},
   "outputs": [],
   "source": [
    "last_page = get_last_page(url)"
   ]
  },
  {
   "cell_type": "code",
   "execution_count": 6,
   "metadata": {},
   "outputs": [],
   "source": [
    "def get_hrefs(url: str, last_page: int, init_page: int=1):\n",
    "    hrefs = list() # lista em que o href de cada jogo será inserido.\n",
    "\n",
    "    for page in range(init_page, last_page+1): # Para iterar até a última página devemos adicionar 1.\n",
    "        # Instancia-se o objeto BeautifulSoup:\n",
    "        soup_class = dc.Soup(url + str(page))\n",
    "        soup = soup_class.get_soup()\n",
    "\n",
    "        # Classe para realização do scraping:\n",
    "        scrape = dc.Scrape()\n",
    "\n",
    "        # Objeto BeautifulSoup com os cartões para os jogos na página:\n",
    "        game_cards = scrape.find_elements(\n",
    "            tag='div', tag_class='c-finderProductCard c-finderProductCard-game',\n",
    "            timeout=0.05, soup=soup\n",
    "        )\n",
    "        # Itera-se cada cartão para obtenção do href:\n",
    "        for game in game_cards:\n",
    "            href = scrape.find_element(\n",
    "                tag='a', tag_class='c-finderProductCard_container g-color-gray80 u-grid',\n",
    "                timeout=0, soup=game\n",
    "            )\n",
    "            href = href['href']\n",
    "            hrefs.append(href)\n",
    "    return hrefs"
   ]
  },
  {
   "cell_type": "code",
   "execution_count": 7,
   "metadata": {},
   "outputs": [],
   "source": [
    "with ThreadPoolExecutor(max_workers=3) as executor:\n",
    "    games_hrefs = executor.submit(get_hrefs, url, last_page)\n",
    "games_hrefs = games_hrefs.result()"
   ]
  },
  {
   "cell_type": "markdown",
   "metadata": {},
   "source": [
    "## 2.2. Coleta das informações sobre os jogos"
   ]
  },
  {
   "cell_type": "code",
   "execution_count": 8,
   "metadata": {},
   "outputs": [],
   "source": [
    "metacritic_url = 'https://www.metacritic.com'"
   ]
  },
  {
   "cell_type": "code",
   "execution_count": 69,
   "metadata": {},
   "outputs": [],
   "source": [
    "def get_data_games(hrefs: list, metacritic_url: str):\n",
    "    data_games = list()\n",
    "    data_game = dict()\n",
    "    \n",
    "    for href in hrefs:\n",
    "        soup_class = dc.Soup(metacritic_url + str(href))\n",
    "        soup = soup_class.get_soup()\n",
    "        scrape = dc.Scrape()\n",
    "\n",
    "        name_soup = scrape.find_element(\n",
    "            tag='div', timeout=0.1, soup=soup,\n",
    "            tag_class='c-productHero_title g-inner-spacing-bottom-medium g-outer-spacing-top-medium'\n",
    "        )\n",
    "        name = re.sub(r'^\\s+|\\s+$', '', name_soup.get_text(), flags=re.MULTILINE)\n",
    "\n",
    "        try:\n",
    "            tbd_soup = scrape.find_element(\n",
    "                tag='span', timeout=0, soup=soup,\n",
    "                tag_class=('c-productHero_scoreRemainder u-inline-block g-color-gray80 '\n",
    "                           'g-text-xsmall g-outer-spacing-bottom-large')\n",
    "            )\n",
    "            tbd = re.sub(r'^\\s+|\\s+$', '', tbd_soup.get_text(), flags=re.MULTILINE)\n",
    "            \n",
    "            if tbd == 'Critic reviews are not available':\n",
    "                score = 'tbd'\n",
    "            else:\n",
    "                pass\n",
    "        except (AttributeError, UnboundLocalError) as error:\n",
    "            score_box_soup = scrape.find_element(\n",
    "                        tag='div', timeout=0, soup=soup,\n",
    "                        tag_class=(\"c-siteReviewScore u-flexbox-column u-flexbox-alignCenter\"\n",
    "                                \" u-flexbox-justifyCenter g-text-bold c-siteReviewScore_green\"\n",
    "                                \" g-color-gray90 c-siteReviewScore_medium\")\n",
    "            )\n",
    "            score_soup = scrape.find_element(\n",
    "                tag='span', timeout=0, soup=score_box_soup           \n",
    "            )\n",
    "            score = int(score_soup.get_text())\n",
    "        data_game['name'] = name\n",
    "        data_game['metascore'] = score\n",
    "\n",
    "        data_games.append(data_game.copy())\n",
    "    return data_games"
   ]
  },
  {
   "cell_type": "code",
   "execution_count": 70,
   "metadata": {},
   "outputs": [],
   "source": [
    "with ThreadPoolExecutor(max_workers=3) as executor:\n",
    "    metacritic = get_data_games(games_hrefs, metacritic_url)"
   ]
  },
  {
   "cell_type": "code",
   "execution_count": null,
   "metadata": {},
   "outputs": [],
   "source": [
    "metacritic = pd.DataFrame(metacritic)"
   ]
  },
  {
   "cell_type": "code",
   "execution_count": null,
   "metadata": {},
   "outputs": [
    {
     "data": {
      "text/html": [
       "<div>\n",
       "<style scoped>\n",
       "    .dataframe tbody tr th:only-of-type {\n",
       "        vertical-align: middle;\n",
       "    }\n",
       "\n",
       "    .dataframe tbody tr th {\n",
       "        vertical-align: top;\n",
       "    }\n",
       "\n",
       "    .dataframe thead th {\n",
       "        text-align: right;\n",
       "    }\n",
       "</style>\n",
       "<table border=\"1\" class=\"dataframe\">\n",
       "  <thead>\n",
       "    <tr style=\"text-align: right;\">\n",
       "      <th></th>\n",
       "      <th>name</th>\n",
       "      <th>metascore</th>\n",
       "    </tr>\n",
       "  </thead>\n",
       "  <tbody>\n",
       "    <tr>\n",
       "      <th>0</th>\n",
       "      <td>The Grinch: Christmas Adventures</td>\n",
       "      <td>tbd</td>\n",
       "    </tr>\n",
       "    <tr>\n",
       "      <th>1</th>\n",
       "      <td>Alphadia I &amp; II</td>\n",
       "      <td>tbd</td>\n",
       "    </tr>\n",
       "    <tr>\n",
       "      <th>2</th>\n",
       "      <td>Lords of the Fallen</td>\n",
       "      <td>76</td>\n",
       "    </tr>\n",
       "    <tr>\n",
       "      <th>3</th>\n",
       "      <td>Chemically Bonded</td>\n",
       "      <td>tbd</td>\n",
       "    </tr>\n",
       "    <tr>\n",
       "      <th>4</th>\n",
       "      <td>Transformers: Earthspark - Expedition</td>\n",
       "      <td>tbd</td>\n",
       "    </tr>\n",
       "    <tr>\n",
       "      <th>5</th>\n",
       "      <td>Troublemaker: Raise Your Gang</td>\n",
       "      <td>tbd</td>\n",
       "    </tr>\n",
       "    <tr>\n",
       "      <th>6</th>\n",
       "      <td>Infinity Strash: Dragon Quest The Adventure of...</td>\n",
       "      <td>85</td>\n",
       "    </tr>\n",
       "    <tr>\n",
       "      <th>7</th>\n",
       "      <td>Hotel: A Resort Simulator</td>\n",
       "      <td>tbd</td>\n",
       "    </tr>\n",
       "    <tr>\n",
       "      <th>8</th>\n",
       "      <td>From Space</td>\n",
       "      <td>tbd</td>\n",
       "    </tr>\n",
       "    <tr>\n",
       "      <th>9</th>\n",
       "      <td>Astrosmash</td>\n",
       "      <td>tbd</td>\n",
       "    </tr>\n",
       "    <tr>\n",
       "      <th>10</th>\n",
       "      <td>Haunted House</td>\n",
       "      <td>tbd</td>\n",
       "    </tr>\n",
       "    <tr>\n",
       "      <th>11</th>\n",
       "      <td>RedRaptor</td>\n",
       "      <td>tbd</td>\n",
       "    </tr>\n",
       "    <tr>\n",
       "      <th>12</th>\n",
       "      <td>Between Time: Escape Room</td>\n",
       "      <td>tbd</td>\n",
       "    </tr>\n",
       "    <tr>\n",
       "      <th>13</th>\n",
       "      <td>The Crown of Wu</td>\n",
       "      <td>tbd</td>\n",
       "    </tr>\n",
       "    <tr>\n",
       "      <th>14</th>\n",
       "      <td>Lil Gator Game</td>\n",
       "      <td>84</td>\n",
       "    </tr>\n",
       "    <tr>\n",
       "      <th>15</th>\n",
       "      <td>Long Gone Days</td>\n",
       "      <td>80</td>\n",
       "    </tr>\n",
       "    <tr>\n",
       "      <th>16</th>\n",
       "      <td>Wild Card Football</td>\n",
       "      <td>80</td>\n",
       "    </tr>\n",
       "    <tr>\n",
       "      <th>17</th>\n",
       "      <td>Forza Motorsport</td>\n",
       "      <td>85</td>\n",
       "    </tr>\n",
       "    <tr>\n",
       "      <th>18</th>\n",
       "      <td>Pirates on Target</td>\n",
       "      <td>tbd</td>\n",
       "    </tr>\n",
       "    <tr>\n",
       "      <th>19</th>\n",
       "      <td>NHL 24</td>\n",
       "      <td>75</td>\n",
       "    </tr>\n",
       "    <tr>\n",
       "      <th>20</th>\n",
       "      <td>Zumania</td>\n",
       "      <td>75</td>\n",
       "    </tr>\n",
       "    <tr>\n",
       "      <th>21</th>\n",
       "      <td>Sword Art Online: Last Recollection</td>\n",
       "      <td>75</td>\n",
       "    </tr>\n",
       "    <tr>\n",
       "      <th>22</th>\n",
       "      <td>Sunshine Manor</td>\n",
       "      <td>75</td>\n",
       "    </tr>\n",
       "    <tr>\n",
       "      <th>23</th>\n",
       "      <td>The Sisters 2: Road to Fame</td>\n",
       "      <td>75</td>\n",
       "    </tr>\n",
       "    <tr>\n",
       "      <th>24</th>\n",
       "      <td>Asterix &amp; Obelix: Heroes</td>\n",
       "      <td>75</td>\n",
       "    </tr>\n",
       "    <tr>\n",
       "      <th>25</th>\n",
       "      <td>Knight vs Giant: The Broken Excalibur</td>\n",
       "      <td>75</td>\n",
       "    </tr>\n",
       "    <tr>\n",
       "      <th>26</th>\n",
       "      <td>Cricket 24</td>\n",
       "      <td>90</td>\n",
       "    </tr>\n",
       "    <tr>\n",
       "      <th>27</th>\n",
       "      <td>Assassin's Creed Mirage</td>\n",
       "      <td>77</td>\n",
       "    </tr>\n",
       "    <tr>\n",
       "      <th>28</th>\n",
       "      <td>Wordless</td>\n",
       "      <td>tbd</td>\n",
       "    </tr>\n",
       "    <tr>\n",
       "      <th>29</th>\n",
       "      <td>Cassette Beasts: Pier of the Unknown</td>\n",
       "      <td>tbd</td>\n",
       "    </tr>\n",
       "  </tbody>\n",
       "</table>\n",
       "</div>"
      ],
      "text/plain": [
       "                                                 name metascore\n",
       "0                    The Grinch: Christmas Adventures       tbd\n",
       "1                                     Alphadia I & II       tbd\n",
       "2                                 Lords of the Fallen        76\n",
       "3                                   Chemically Bonded       tbd\n",
       "4               Transformers: Earthspark - Expedition       tbd\n",
       "5                       Troublemaker: Raise Your Gang       tbd\n",
       "6   Infinity Strash: Dragon Quest The Adventure of...        85\n",
       "7                           Hotel: A Resort Simulator       tbd\n",
       "8                                          From Space       tbd\n",
       "9                                          Astrosmash       tbd\n",
       "10                                      Haunted House       tbd\n",
       "11                                          RedRaptor       tbd\n",
       "12                          Between Time: Escape Room       tbd\n",
       "13                                    The Crown of Wu       tbd\n",
       "14                                     Lil Gator Game        84\n",
       "15                                     Long Gone Days        80\n",
       "16                                 Wild Card Football        80\n",
       "17                                   Forza Motorsport        85\n",
       "18                                  Pirates on Target       tbd\n",
       "19                                             NHL 24        75\n",
       "20                                            Zumania        75\n",
       "21                Sword Art Online: Last Recollection        75\n",
       "22                                     Sunshine Manor        75\n",
       "23                        The Sisters 2: Road to Fame        75\n",
       "24                           Asterix & Obelix: Heroes        75\n",
       "25              Knight vs Giant: The Broken Excalibur        75\n",
       "26                                         Cricket 24        90\n",
       "27                            Assassin's Creed Mirage        77\n",
       "28                                           Wordless       tbd\n",
       "29               Cassette Beasts: Pier of the Unknown       tbd"
      ]
     },
     "execution_count": 68,
     "metadata": {},
     "output_type": "execute_result"
    }
   ],
   "source": [
    "metacritic"
   ]
  },
  {
   "cell_type": "markdown",
   "metadata": {},
   "source": [
    "# 3. ***Export*** do arquivo *csv*"
   ]
  },
  {
   "cell_type": "code",
   "execution_count": 13,
   "metadata": {},
   "outputs": [
    {
     "data": {
      "text/plain": [
       "array([95, 76, 96, 87, 85, 90, 88, 93, 84, 80, 94, 75, 89, 91, 77],\n",
       "      dtype=int64)"
      ]
     },
     "execution_count": 13,
     "metadata": {},
     "output_type": "execute_result"
    }
   ],
   "source": [
    "metacritic['metascore'].unique()"
   ]
  },
  {
   "cell_type": "code",
   "execution_count": 14,
   "metadata": {},
   "outputs": [],
   "source": [
    "metacritic.to_csv('xbox_series_metacritic.csv', index=False)"
   ]
  }
 ],
 "metadata": {
  "kernelspec": {
   "display_name": "Python 3",
   "language": "python",
   "name": "python3"
  },
  "language_info": {
   "codemirror_mode": {
    "name": "ipython",
    "version": 3
   },
   "file_extension": ".py",
   "mimetype": "text/x-python",
   "name": "python",
   "nbconvert_exporter": "python",
   "pygments_lexer": "ipython3",
   "version": "3.11.6"
  },
  "orig_nbformat": 4
 },
 "nbformat": 4,
 "nbformat_minor": 2
}
