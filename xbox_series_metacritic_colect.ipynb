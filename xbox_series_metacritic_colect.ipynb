{
 "cells": [
  {
   "cell_type": "code",
   "execution_count": 1,
   "metadata": {},
   "outputs": [],
   "source": [
    "import sys\n",
    "sys.path.append(r'C:\\Users\\damod\\OneDrive\\Área de Trabalho\\Projetos Python\\dataprocessing')"
   ]
  },
  {
   "cell_type": "markdown",
   "metadata": {},
   "source": [
    "Importanção das bibliotecas"
   ]
  },
  {
   "cell_type": "code",
   "execution_count": 2,
   "metadata": {},
   "outputs": [],
   "source": [
    "from concurrent.futures import ThreadPoolExecutor\n",
    "import dataprocessing.datacolect as dc\n",
    "import re\n",
    "import pandas as pd\n",
    "import numpy as np"
   ]
  },
  {
   "cell_type": "markdown",
   "metadata": {},
   "source": [
    "# 1. Sobre a coleta no ***Metacritic***"
   ]
  },
  {
   "cell_type": "markdown",
   "metadata": {},
   "source": [
    "# 2. Rotina de ***scraping***"
   ]
  },
  {
   "cell_type": "markdown",
   "metadata": {},
   "source": [
    "## 2.1. Coleta dos ***hrefs*** para acessar as ***urls*** dos jogos"
   ]
  },
  {
   "cell_type": "markdown",
   "metadata": {},
   "source": [
    "É necessário coletar o *link* para cada jogo em cada uma das páginas do ***Metacritic*** referentes ao ***Xbox One***. Há, para essa plataforma, 319 páginas."
   ]
  },
  {
   "cell_type": "markdown",
   "metadata": {},
   "source": [
    "A ***url*** abaixo será usada em cada iteração, adicionando-se apenas o número correto da página."
   ]
  },
  {
   "cell_type": "code",
   "execution_count": 108,
   "metadata": {},
   "outputs": [],
   "source": [
    "url = ('https://www.metacritic.com/browse/game/xbox-series-x/all/all-time/new/'\n",
    "       '?platform=xbox-series-x&releaseYearMin=1910&releaseYearMax=2023&page=')"
   ]
  },
  {
   "cell_type": "code",
   "execution_count": 109,
   "metadata": {},
   "outputs": [],
   "source": [
    "def get_last_page(url: str):\n",
    "    soup_class = dc.Soup(url)\n",
    "    soup = soup_class.get_soup()\n",
    "    scrape = dc.Scrape()\n",
    "\n",
    "    last_page_soup = scrape.find_elements(\n",
    "        tag='span', timeout=0, soup=soup,\n",
    "        tag_class=('c-navigationPagination_itemButtonContent u-flexbox u-flexbox-alignCenter u-flexbox-justifyCenter')\n",
    "    )\n",
    "    last_page = int(re.sub(r'^\\s+|\\s+$', '', last_page_soup[-2].get_text(), flags=re.MULTILINE))\n",
    "\n",
    "    return last_page"
   ]
  },
  {
   "cell_type": "code",
   "execution_count": 110,
   "metadata": {},
   "outputs": [],
   "source": [
    "last_page = get_last_page(url)"
   ]
  },
  {
   "cell_type": "code",
   "execution_count": 112,
   "metadata": {},
   "outputs": [],
   "source": [
    "def get_hrefs(url: str, last_page: int, init_page: int=1):\n",
    "    hrefs = list() # lista em que o href de cada jogo será inserido.\n",
    "\n",
    "    for page in range(init_page, last_page+1): # Para iterar até a última página devemos adicionar 1.\n",
    "        # Instancia-se o objeto BeautifulSoup:\n",
    "        soup_class = dc.Soup(url + str(page))\n",
    "        soup = soup_class.get_soup()\n",
    "\n",
    "        # Classe para realização do scraping:\n",
    "        scrape = dc.Scrape()\n",
    "\n",
    "        # Objeto BeautifulSoup com os cartões para os jogos na página:\n",
    "        game_cards = scrape.find_elements(\n",
    "            tag='div', tag_class='c-finderProductCard c-finderProductCard-game',\n",
    "            timeout=0.05, soup=soup\n",
    "        )\n",
    "        # Itera-se cada cartão para obtenção do href:\n",
    "        for game in game_cards:\n",
    "            href = scrape.find_element(\n",
    "                tag='a', tag_class='c-finderProductCard_container g-color-gray80 u-grid',\n",
    "                timeout=0, soup=game\n",
    "            )\n",
    "            href = href['href']\n",
    "            hrefs.append(href)\n",
    "    return hrefs"
   ]
  },
  {
   "cell_type": "code",
   "execution_count": 113,
   "metadata": {},
   "outputs": [],
   "source": [
    "with ThreadPoolExecutor(max_workers=3) as executor:\n",
    "    games_hrefs = executor.submit(get_hrefs, url, last_page)\n",
    "games_hrefs = games_hrefs.result()"
   ]
  },
  {
   "cell_type": "markdown",
   "metadata": {},
   "source": [
    "## 2.2. Coleta das informações sobre os jogos"
   ]
  },
  {
   "cell_type": "code",
   "execution_count": 114,
   "metadata": {},
   "outputs": [],
   "source": [
    "metacritic_url = 'https://www.metacritic.com'"
   ]
  },
  {
   "cell_type": "code",
   "execution_count": 115,
   "metadata": {},
   "outputs": [],
   "source": [
    "def get_data_games(hrefs: list, metacritic_url: str):\n",
    "    data_games = list()\n",
    "    data_game = dict()\n",
    "    \n",
    "    for href in hrefs:\n",
    "        soup_class = dc.Soup(metacritic_url + str(href))\n",
    "        soup = soup_class.get_soup()\n",
    "        scrape = dc.Scrape()\n",
    "\n",
    "        name_soup = scrape.find_element(\n",
    "            tag='div', timeout=0.1, soup=soup,\n",
    "            tag_class='c-productHero_title g-inner-spacing-bottom-medium g-outer-spacing-top-medium'\n",
    "        )\n",
    "        name = re.sub(r'^\\s+|\\s+$', '', name_soup.get_text(), flags=re.MULTILINE)\n",
    "        try:\n",
    "            score_box_soup = scrape.find_element(\n",
    "                tag='div', timeout=0, soup=soup,\n",
    "                tag_class=(\"c-siteReviewScore u-flexbox-column u-flexbox-alignCenter\"\n",
    "                           \" u-flexbox-justifyCenter g-text-bold c-siteReviewScore_green\"\n",
    "                           \" g-color-gray90 c-siteReviewScore_medium\")\n",
    "            )\n",
    "            score_soup = scrape.find_element(\n",
    "                tag='span', timeout=0, soup=score_box_soup           \n",
    "            )\n",
    "            score = int(score_soup.get_text())\n",
    "        except AttributeError:\n",
    "            score = np.NaN\n",
    "        data_game['name'] = name\n",
    "        data_game['metascore'] = score\n",
    "\n",
    "        data_games.append(data_game.copy())\n",
    "    return data_games"
   ]
  },
  {
   "cell_type": "code",
   "execution_count": 116,
   "metadata": {},
   "outputs": [],
   "source": [
    "with ThreadPoolExecutor(max_workers=3) as executor:\n",
    "    metacritic = get_data_games(games_hrefs, metacritic_url)"
   ]
  },
  {
   "cell_type": "code",
   "execution_count": 117,
   "metadata": {},
   "outputs": [],
   "source": [
    "metacritic = pd.DataFrame(metacritic)"
   ]
  },
  {
   "cell_type": "code",
   "execution_count": 118,
   "metadata": {},
   "outputs": [
    {
     "data": {
      "text/html": [
       "<div>\n",
       "<style scoped>\n",
       "    .dataframe tbody tr th:only-of-type {\n",
       "        vertical-align: middle;\n",
       "    }\n",
       "\n",
       "    .dataframe tbody tr th {\n",
       "        vertical-align: top;\n",
       "    }\n",
       "\n",
       "    .dataframe thead th {\n",
       "        text-align: right;\n",
       "    }\n",
       "</style>\n",
       "<table border=\"1\" class=\"dataframe\">\n",
       "  <thead>\n",
       "    <tr style=\"text-align: right;\">\n",
       "      <th></th>\n",
       "      <th>name</th>\n",
       "      <th>metascore</th>\n",
       "    </tr>\n",
       "  </thead>\n",
       "  <tbody>\n",
       "    <tr>\n",
       "      <th>0</th>\n",
       "      <td>Forza Motorsport</td>\n",
       "      <td>85.0</td>\n",
       "    </tr>\n",
       "    <tr>\n",
       "      <th>1</th>\n",
       "      <td>Lil Gator Game</td>\n",
       "      <td>84.0</td>\n",
       "    </tr>\n",
       "    <tr>\n",
       "      <th>2</th>\n",
       "      <td>Wild Card Football</td>\n",
       "      <td>85.0</td>\n",
       "    </tr>\n",
       "    <tr>\n",
       "      <th>3</th>\n",
       "      <td>Long Gone Days</td>\n",
       "      <td>85.0</td>\n",
       "    </tr>\n",
       "    <tr>\n",
       "      <th>4</th>\n",
       "      <td>Pirates on Target</td>\n",
       "      <td>94.0</td>\n",
       "    </tr>\n",
       "    <tr>\n",
       "      <th>...</th>\n",
       "      <td>...</td>\n",
       "      <td>...</td>\n",
       "    </tr>\n",
       "    <tr>\n",
       "      <th>1924</th>\n",
       "      <td>WWE 2K Battlegrounds</td>\n",
       "      <td>85.0</td>\n",
       "    </tr>\n",
       "    <tr>\n",
       "      <th>1925</th>\n",
       "      <td>Bounty Battle</td>\n",
       "      <td>94.0</td>\n",
       "    </tr>\n",
       "    <tr>\n",
       "      <th>1926</th>\n",
       "      <td>WRC 9 FIA World Rally Championship</td>\n",
       "      <td>81.0</td>\n",
       "    </tr>\n",
       "    <tr>\n",
       "      <th>1927</th>\n",
       "      <td>EA SPORTS UFC 4</td>\n",
       "      <td>78.0</td>\n",
       "    </tr>\n",
       "    <tr>\n",
       "      <th>1928</th>\n",
       "      <td>Broforce</td>\n",
       "      <td>83.0</td>\n",
       "    </tr>\n",
       "  </tbody>\n",
       "</table>\n",
       "<p>1929 rows × 2 columns</p>\n",
       "</div>"
      ],
      "text/plain": [
       "                                    name  metascore\n",
       "0                       Forza Motorsport       85.0\n",
       "1                         Lil Gator Game       84.0\n",
       "2                     Wild Card Football       85.0\n",
       "3                         Long Gone Days       85.0\n",
       "4                      Pirates on Target       94.0\n",
       "...                                  ...        ...\n",
       "1924                WWE 2K Battlegrounds       85.0\n",
       "1925                       Bounty Battle       94.0\n",
       "1926  WRC 9 FIA World Rally Championship       81.0\n",
       "1927                     EA SPORTS UFC 4       78.0\n",
       "1928                            Broforce       83.0\n",
       "\n",
       "[1929 rows x 2 columns]"
      ]
     },
     "execution_count": 118,
     "metadata": {},
     "output_type": "execute_result"
    }
   ],
   "source": [
    "metacritic"
   ]
  },
  {
   "cell_type": "markdown",
   "metadata": {},
   "source": [
    "# 3. ***Export*** do arquivo *csv*"
   ]
  },
  {
   "cell_type": "code",
   "execution_count": 119,
   "metadata": {},
   "outputs": [
    {
     "data": {
      "text/plain": [
       "array([ 85.,  84.,  94.,  80.,  95.,  76.,  89.,  90.,  91.,  77.,  88.,\n",
       "        97.,  96.,  75.,  78.,  93.,  79.,  83.,  81.,  87.,  92.,  82.,\n",
       "        86., 100.,  99.,  98.,  nan])"
      ]
     },
     "execution_count": 119,
     "metadata": {},
     "output_type": "execute_result"
    }
   ],
   "source": [
    "metacritic['metascore'].unique()"
   ]
  },
  {
   "cell_type": "code",
   "execution_count": 121,
   "metadata": {},
   "outputs": [],
   "source": [
    "metacritic.to_csv('xbox_series_metacritic.csv', index=False)"
   ]
  }
 ],
 "metadata": {
  "kernelspec": {
   "display_name": "Python 3",
   "language": "python",
   "name": "python3"
  },
  "language_info": {
   "codemirror_mode": {
    "name": "ipython",
    "version": 3
   },
   "file_extension": ".py",
   "mimetype": "text/x-python",
   "name": "python",
   "nbconvert_exporter": "python",
   "pygments_lexer": "ipython3",
   "version": "3.11.6"
  },
  "orig_nbformat": 4
 },
 "nbformat": 4,
 "nbformat_minor": 2
}
