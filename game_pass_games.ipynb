{
 "cells": [
  {
   "cell_type": "code",
   "execution_count": 1,
   "metadata": {},
   "outputs": [],
   "source": [
    "import dataprocessing.datacolect as dc\n",
    "import pandas as pd\n",
    "import numpy as np"
   ]
  },
  {
   "cell_type": "markdown",
   "metadata": {},
   "source": [
    "# 1. Sobre a coleta dos jogos"
   ]
  },
  {
   "cell_type": "markdown",
   "metadata": {},
   "source": [
    "O objetivo deste *notebook* é obter o nome dos jogos que estão presentes no serviço ***Xbox Game Pass***. Portanto, é necessário extrair essas informações de uma página que tenha essas informações atualizadas constantemente. Isso deve ao fato da natureza do serviço.\n",
    "\n",
    "O ***Xbox Game Pass*** recebe jogos e outros são retirados de maneira periódica. Os dados serão coletados do portal ***Windows Cetral***."
   ]
  },
  {
   "cell_type": "markdown",
   "metadata": {},
   "source": [
    "![Alt text](image.png)"
   ]
  },
  {
   "cell_type": "markdown",
   "metadata": {},
   "source": [
    "Ademais, é importante obter os jogos para os diferentes segmentos do serviço que hoje se divide em:\n",
    "\n",
    "> *Game Pass Core.*\n",
    ">\n",
    "> *Game Pass Standard.*\n",
    ">\n",
    "> *Game Pass Ultimate.*\n",
    ">\n",
    "> *PC Game Pass.*\n",
    "\n",
    "Os 3 primeiros destinados aos consoles e o último apenas para os computadores. "
   ]
  },
  {
   "cell_type": "markdown",
   "metadata": {},
   "source": [
    "# 2. Rotina de *scraping*"
   ]
  },
  {
   "cell_type": "code",
   "execution_count": 2,
   "metadata": {},
   "outputs": [],
   "source": [
    "# Url da página do Windows Central com a lista dos jogos:\n",
    "\n",
    "url = 'https://www.windowscentral.com/xbox-game-pass-list'"
   ]
  },
  {
   "cell_type": "code",
   "execution_count": 3,
   "metadata": {},
   "outputs": [],
   "source": [
    "soup = dc.Soup(url)\n",
    "soup = soup.get_soup()\n",
    "scrape = dc.Scrape()"
   ]
  },
  {
   "cell_type": "code",
   "execution_count": 4,
   "metadata": {},
   "outputs": [
    {
     "data": {
      "text/plain": [
       "bs4.BeautifulSoup"
      ]
     },
     "execution_count": 4,
     "metadata": {},
     "output_type": "execute_result"
    }
   ],
   "source": [
    "type(soup)"
   ]
  },
  {
   "cell_type": "code",
   "execution_count": 5,
   "metadata": {},
   "outputs": [],
   "source": [
    "games_soup_list = scrape.find_elements(tag='ul', soup=soup)"
   ]
  },
  {
   "cell_type": "code",
   "execution_count": 6,
   "metadata": {},
   "outputs": [],
   "source": [
    "def get_games_names(soup, index: int=2):\n",
    "    if index in [2, 3, 4]:\n",
    "        games_soup = scrape.find_elements(tag='li', soup=soup[index])\n",
    "    else:\n",
    "        raise ValueError('Parâmetro index fora do intervalo. As opções são 2 (console), 3 (PC) e 4 (Cloud).')\n",
    "    \n",
    "    games_list = list()\n",
    "\n",
    "    for game in games_soup:\n",
    "        if ' (👇🏻)' in game.get_text():\n",
    "            game = game.get_text().replace(' (👇🏻)', '')\n",
    "            games_list.append(game.upper())\n",
    "        else:    \n",
    "            games_list.append(game.get_text().upper())\n",
    "\n",
    "    return games_list\n",
    "\n",
    "\n",
    "def games_dataframe(games: list, column: str='name'):\n",
    "    dataframe = pd.DataFrame({column: games})\n",
    "    return dataframe"
   ]
  },
  {
   "cell_type": "code",
   "execution_count": 7,
   "metadata": {},
   "outputs": [],
   "source": [
    "console_list = get_games_names(games_soup_list, index=2)\n",
    "pc_list = get_games_names(games_soup_list, index=3)\n",
    "cloud_list = get_games_names(games_soup_list, index=4)"
   ]
  },
  {
   "cell_type": "code",
   "execution_count": 8,
   "metadata": {},
   "outputs": [
    {
     "data": {
      "text/html": [
       "<div>\n",
       "<style scoped>\n",
       "    .dataframe tbody tr th:only-of-type {\n",
       "        vertical-align: middle;\n",
       "    }\n",
       "\n",
       "    .dataframe tbody tr th {\n",
       "        vertical-align: top;\n",
       "    }\n",
       "\n",
       "    .dataframe thead th {\n",
       "        text-align: right;\n",
       "    }\n",
       "</style>\n",
       "<table border=\"1\" class=\"dataframe\">\n",
       "  <thead>\n",
       "    <tr style=\"text-align: right;\">\n",
       "      <th></th>\n",
       "      <th>name</th>\n",
       "    </tr>\n",
       "  </thead>\n",
       "  <tbody>\n",
       "    <tr>\n",
       "      <th>0</th>\n",
       "      <td>7 DAYS TO DIE</td>\n",
       "    </tr>\n",
       "    <tr>\n",
       "      <th>1</th>\n",
       "      <td>A PLAGUE TALE: REQUIEM</td>\n",
       "    </tr>\n",
       "    <tr>\n",
       "      <th>2</th>\n",
       "      <td>A WAY OUT</td>\n",
       "    </tr>\n",
       "    <tr>\n",
       "      <th>3</th>\n",
       "      <td>AGE OF EMPIRES II: DEFINITIVE EDITION</td>\n",
       "    </tr>\n",
       "    <tr>\n",
       "      <th>4</th>\n",
       "      <td>AGE OF EMPIRE IV</td>\n",
       "    </tr>\n",
       "    <tr>\n",
       "      <th>...</th>\n",
       "      <td>...</td>\n",
       "    </tr>\n",
       "    <tr>\n",
       "      <th>460</th>\n",
       "      <td>YOU SUCK AT PARKING</td>\n",
       "    </tr>\n",
       "    <tr>\n",
       "      <th>461</th>\n",
       "      <td>ZOMBIE ARMY 4: DEAD WAR</td>\n",
       "    </tr>\n",
       "    <tr>\n",
       "      <th>462</th>\n",
       "      <td>ZOO TYCOON: ULTIMATE ANIMAL COLLECTION</td>\n",
       "    </tr>\n",
       "    <tr>\n",
       "      <th>463</th>\n",
       "      <td>ZUMA</td>\n",
       "    </tr>\n",
       "    <tr>\n",
       "      <th>464</th>\n",
       "      <td>ZUMA'S REVENGE!</td>\n",
       "    </tr>\n",
       "  </tbody>\n",
       "</table>\n",
       "<p>465 rows × 1 columns</p>\n",
       "</div>"
      ],
      "text/plain": [
       "                                       name\n",
       "0                             7 DAYS TO DIE\n",
       "1                    A PLAGUE TALE: REQUIEM\n",
       "2                                 A WAY OUT\n",
       "3     AGE OF EMPIRES II: DEFINITIVE EDITION\n",
       "4                          AGE OF EMPIRE IV\n",
       "..                                      ...\n",
       "460                     YOU SUCK AT PARKING\n",
       "461                 ZOMBIE ARMY 4: DEAD WAR\n",
       "462  ZOO TYCOON: ULTIMATE ANIMAL COLLECTION\n",
       "463                                    ZUMA\n",
       "464                         ZUMA'S REVENGE!\n",
       "\n",
       "[465 rows x 1 columns]"
      ]
     },
     "execution_count": 8,
     "metadata": {},
     "output_type": "execute_result"
    }
   ],
   "source": [
    "console_games = games_dataframe(console_list)\n",
    "console_games"
   ]
  },
  {
   "cell_type": "code",
   "execution_count": 9,
   "metadata": {},
   "outputs": [
    {
     "data": {
      "text/html": [
       "<div>\n",
       "<style scoped>\n",
       "    .dataframe tbody tr th:only-of-type {\n",
       "        vertical-align: middle;\n",
       "    }\n",
       "\n",
       "    .dataframe tbody tr th {\n",
       "        vertical-align: top;\n",
       "    }\n",
       "\n",
       "    .dataframe thead th {\n",
       "        text-align: right;\n",
       "    }\n",
       "</style>\n",
       "<table border=\"1\" class=\"dataframe\">\n",
       "  <thead>\n",
       "    <tr style=\"text-align: right;\">\n",
       "      <th></th>\n",
       "      <th>name</th>\n",
       "    </tr>\n",
       "  </thead>\n",
       "  <tbody>\n",
       "    <tr>\n",
       "      <th>0</th>\n",
       "      <td>7 DAYS TO DIE</td>\n",
       "    </tr>\n",
       "    <tr>\n",
       "      <th>1</th>\n",
       "      <td>A PLAGUE TALE: REQUIEM</td>\n",
       "    </tr>\n",
       "    <tr>\n",
       "      <th>2</th>\n",
       "      <td>A WAY OUT</td>\n",
       "    </tr>\n",
       "    <tr>\n",
       "      <th>3</th>\n",
       "      <td>AGE OF EMPIRES: DEFINITIVE EDITION</td>\n",
       "    </tr>\n",
       "    <tr>\n",
       "      <th>4</th>\n",
       "      <td>AGE OF EMPIRES II: DEFINITIVE EDITION</td>\n",
       "    </tr>\n",
       "    <tr>\n",
       "      <th>...</th>\n",
       "      <td>...</td>\n",
       "    </tr>\n",
       "    <tr>\n",
       "      <th>441</th>\n",
       "      <td>YAKUZA KIWAMI 2</td>\n",
       "    </tr>\n",
       "    <tr>\n",
       "      <th>442</th>\n",
       "      <td>YAKUZA: LIKE A DRAGON</td>\n",
       "    </tr>\n",
       "    <tr>\n",
       "      <th>443</th>\n",
       "      <td>YOU SUCK AT PARKING</td>\n",
       "    </tr>\n",
       "    <tr>\n",
       "      <th>444</th>\n",
       "      <td>ZOMBIE ARMY 4: DEAD WAR</td>\n",
       "    </tr>\n",
       "    <tr>\n",
       "      <th>445</th>\n",
       "      <td>ZOO TYCOON: ULTIMATE ANIMAL COLLECTION</td>\n",
       "    </tr>\n",
       "  </tbody>\n",
       "</table>\n",
       "<p>446 rows × 1 columns</p>\n",
       "</div>"
      ],
      "text/plain": [
       "                                       name\n",
       "0                             7 DAYS TO DIE\n",
       "1                    A PLAGUE TALE: REQUIEM\n",
       "2                                 A WAY OUT\n",
       "3        AGE OF EMPIRES: DEFINITIVE EDITION\n",
       "4     AGE OF EMPIRES II: DEFINITIVE EDITION\n",
       "..                                      ...\n",
       "441                         YAKUZA KIWAMI 2\n",
       "442                   YAKUZA: LIKE A DRAGON\n",
       "443                     YOU SUCK AT PARKING\n",
       "444                 ZOMBIE ARMY 4: DEAD WAR\n",
       "445  ZOO TYCOON: ULTIMATE ANIMAL COLLECTION\n",
       "\n",
       "[446 rows x 1 columns]"
      ]
     },
     "execution_count": 9,
     "metadata": {},
     "output_type": "execute_result"
    }
   ],
   "source": [
    "pc_games = games_dataframe(pc_list)\n",
    "pc_games"
   ]
  },
  {
   "cell_type": "code",
   "execution_count": 10,
   "metadata": {},
   "outputs": [],
   "source": [
    "cloud_games = games_dataframe(cloud_list)"
   ]
  },
  {
   "cell_type": "code",
   "execution_count": 11,
   "metadata": {},
   "outputs": [],
   "source": [
    "df = pd.DataFrame()"
   ]
  },
  {
   "cell_type": "code",
   "execution_count": 12,
   "metadata": {},
   "outputs": [],
   "source": [
    "list_dataframes = [console_games, pc_games, cloud_games]"
   ]
  },
  {
   "cell_type": "code",
   "execution_count": 13,
   "metadata": {},
   "outputs": [],
   "source": [
    "for dataframe in list_dataframes:\n",
    "    df = pd.concat([df, dataframe])\n",
    "    df = df.drop_duplicates(subset='name')"
   ]
  },
  {
   "cell_type": "code",
   "execution_count": 14,
   "metadata": {},
   "outputs": [
    {
     "data": {
      "text/html": [
       "<div>\n",
       "<style scoped>\n",
       "    .dataframe tbody tr th:only-of-type {\n",
       "        vertical-align: middle;\n",
       "    }\n",
       "\n",
       "    .dataframe tbody tr th {\n",
       "        vertical-align: top;\n",
       "    }\n",
       "\n",
       "    .dataframe thead th {\n",
       "        text-align: right;\n",
       "    }\n",
       "</style>\n",
       "<table border=\"1\" class=\"dataframe\">\n",
       "  <thead>\n",
       "    <tr style=\"text-align: right;\">\n",
       "      <th></th>\n",
       "      <th>name</th>\n",
       "    </tr>\n",
       "  </thead>\n",
       "  <tbody>\n",
       "    <tr>\n",
       "      <th>0</th>\n",
       "      <td>7 DAYS TO DIE</td>\n",
       "    </tr>\n",
       "    <tr>\n",
       "      <th>1</th>\n",
       "      <td>A PLAGUE TALE: REQUIEM</td>\n",
       "    </tr>\n",
       "    <tr>\n",
       "      <th>2</th>\n",
       "      <td>A WAY OUT</td>\n",
       "    </tr>\n",
       "    <tr>\n",
       "      <th>3</th>\n",
       "      <td>AGE OF EMPIRES II: DEFINITIVE EDITION</td>\n",
       "    </tr>\n",
       "    <tr>\n",
       "      <th>4</th>\n",
       "      <td>AGE OF EMPIRE IV</td>\n",
       "    </tr>\n",
       "    <tr>\n",
       "      <th>...</th>\n",
       "      <td>...</td>\n",
       "    </tr>\n",
       "    <tr>\n",
       "      <th>297</th>\n",
       "      <td>THE GOOD SLICE</td>\n",
       "    </tr>\n",
       "    <tr>\n",
       "      <th>304</th>\n",
       "      <td>THE SIMS 2</td>\n",
       "    </tr>\n",
       "    <tr>\n",
       "      <th>306</th>\n",
       "      <td>THE WALKING DEAD: A NEW FRONTIER — THE COMPLET...</td>\n",
       "    </tr>\n",
       "    <tr>\n",
       "      <th>309</th>\n",
       "      <td>THE WALKING DEAD: THE COMPLETE SEASON</td>\n",
       "    </tr>\n",
       "    <tr>\n",
       "      <th>320</th>\n",
       "      <td>TOWNSCAPER</td>\n",
       "    </tr>\n",
       "  </tbody>\n",
       "</table>\n",
       "<p>607 rows × 1 columns</p>\n",
       "</div>"
      ],
      "text/plain": [
       "                                                  name\n",
       "0                                        7 DAYS TO DIE\n",
       "1                               A PLAGUE TALE: REQUIEM\n",
       "2                                            A WAY OUT\n",
       "3                AGE OF EMPIRES II: DEFINITIVE EDITION\n",
       "4                                     AGE OF EMPIRE IV\n",
       "..                                                 ...\n",
       "297                                     THE GOOD SLICE\n",
       "304                                         THE SIMS 2\n",
       "306  THE WALKING DEAD: A NEW FRONTIER — THE COMPLET...\n",
       "309              THE WALKING DEAD: THE COMPLETE SEASON\n",
       "320                                         TOWNSCAPER\n",
       "\n",
       "[607 rows x 1 columns]"
      ]
     },
     "execution_count": 14,
     "metadata": {},
     "output_type": "execute_result"
    }
   ],
   "source": [
    "df"
   ]
  },
  {
   "cell_type": "code",
   "execution_count": 15,
   "metadata": {},
   "outputs": [],
   "source": [
    "console_games = console_games.rename({'name': 'console_games'}, axis=1)\n",
    "pc_games = pc_games.rename({'name': 'pc_games'}, axis=1)\n",
    "cloud_games = cloud_games.rename({'name': 'cloud_games'}, axis=1)"
   ]
  },
  {
   "cell_type": "code",
   "execution_count": 19,
   "metadata": {},
   "outputs": [],
   "source": [
    "new_df = pd.merge(\n",
    "    left=console_games, right=pc_games, how='left',\n",
    "    left_on='console_games', right_on='pc_games'\n",
    ")"
   ]
  },
  {
   "cell_type": "code",
   "execution_count": 22,
   "metadata": {},
   "outputs": [],
   "source": [
    "new_df['pc_games'] = new_df['pc_games'].fillna('only_console')"
   ]
  },
  {
   "cell_type": "code",
   "execution_count": 23,
   "metadata": {},
   "outputs": [
    {
     "data": {
      "text/html": [
       "<div>\n",
       "<style scoped>\n",
       "    .dataframe tbody tr th:only-of-type {\n",
       "        vertical-align: middle;\n",
       "    }\n",
       "\n",
       "    .dataframe tbody tr th {\n",
       "        vertical-align: top;\n",
       "    }\n",
       "\n",
       "    .dataframe thead th {\n",
       "        text-align: right;\n",
       "    }\n",
       "</style>\n",
       "<table border=\"1\" class=\"dataframe\">\n",
       "  <thead>\n",
       "    <tr style=\"text-align: right;\">\n",
       "      <th></th>\n",
       "      <th>console_games</th>\n",
       "      <th>pc_games</th>\n",
       "    </tr>\n",
       "  </thead>\n",
       "  <tbody>\n",
       "    <tr>\n",
       "      <th>4</th>\n",
       "      <td>AGE OF EMPIRE IV</td>\n",
       "      <td>only_console</td>\n",
       "    </tr>\n",
       "    <tr>\n",
       "      <th>19</th>\n",
       "      <td>ASSASSIN’S CREED ODYSSEY</td>\n",
       "      <td>only_console</td>\n",
       "    </tr>\n",
       "    <tr>\n",
       "      <th>23</th>\n",
       "      <td>BANJO-KAZOOIE: NUTS &amp; BOLTS</td>\n",
       "      <td>only_console</td>\n",
       "    </tr>\n",
       "    <tr>\n",
       "      <th>24</th>\n",
       "      <td>BANJO-KAZOOIE</td>\n",
       "      <td>only_console</td>\n",
       "    </tr>\n",
       "    <tr>\n",
       "      <th>25</th>\n",
       "      <td>BANJO-TOOIE</td>\n",
       "      <td>only_console</td>\n",
       "    </tr>\n",
       "    <tr>\n",
       "      <th>...</th>\n",
       "      <td>...</td>\n",
       "      <td>...</td>\n",
       "    </tr>\n",
       "    <tr>\n",
       "      <th>439</th>\n",
       "      <td>VIVA PIÑATA: TIP</td>\n",
       "      <td>only_console</td>\n",
       "    </tr>\n",
       "    <tr>\n",
       "      <th>441</th>\n",
       "      <td>WASTELAND 3 (XBOX ONE)</td>\n",
       "      <td>only_console</td>\n",
       "    </tr>\n",
       "    <tr>\n",
       "      <th>445</th>\n",
       "      <td>WEIRD WEST: DEFINITIVE EDITION</td>\n",
       "      <td>only_console</td>\n",
       "    </tr>\n",
       "    <tr>\n",
       "      <th>463</th>\n",
       "      <td>ZUMA</td>\n",
       "      <td>only_console</td>\n",
       "    </tr>\n",
       "    <tr>\n",
       "      <th>464</th>\n",
       "      <td>ZUMA'S REVENGE!</td>\n",
       "      <td>only_console</td>\n",
       "    </tr>\n",
       "  </tbody>\n",
       "</table>\n",
       "<p>137 rows × 2 columns</p>\n",
       "</div>"
      ],
      "text/plain": [
       "                      console_games      pc_games\n",
       "4                  AGE OF EMPIRE IV  only_console\n",
       "19         ASSASSIN’S CREED ODYSSEY  only_console\n",
       "23      BANJO-KAZOOIE: NUTS & BOLTS  only_console\n",
       "24                    BANJO-KAZOOIE  only_console\n",
       "25                      BANJO-TOOIE  only_console\n",
       "..                              ...           ...\n",
       "439                VIVA PIÑATA: TIP  only_console\n",
       "441          WASTELAND 3 (XBOX ONE)  only_console\n",
       "445  WEIRD WEST: DEFINITIVE EDITION  only_console\n",
       "463                            ZUMA  only_console\n",
       "464                 ZUMA'S REVENGE!  only_console\n",
       "\n",
       "[137 rows x 2 columns]"
      ]
     },
     "execution_count": 23,
     "metadata": {},
     "output_type": "execute_result"
    }
   ],
   "source": [
    "new_df.query('pc_games == \"only_console\"')"
   ]
  }
 ],
 "metadata": {
  "kernelspec": {
   "display_name": "Python 3",
   "language": "python",
   "name": "python3"
  },
  "language_info": {
   "codemirror_mode": {
    "name": "ipython",
    "version": 3
   },
   "file_extension": ".py",
   "mimetype": "text/x-python",
   "name": "python",
   "nbconvert_exporter": "python",
   "pygments_lexer": "ipython3",
   "version": "3.11.5"
  },
  "orig_nbformat": 4
 },
 "nbformat": 4,
 "nbformat_minor": 2
}
