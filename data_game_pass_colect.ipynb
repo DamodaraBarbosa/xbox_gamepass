{
 "cells": [
  {
   "cell_type": "code",
   "execution_count": 1,
   "metadata": {},
   "outputs": [],
   "source": [
    "import dataprocessing.datacolect as dc\n",
    "# from selenium.webdriver.common.keys import Keys\n",
    "# from selenium.webdriver.common.by import By"
   ]
  },
  {
   "cell_type": "markdown",
   "metadata": {},
   "source": [
    "# 1. Sobre a coleta"
   ]
  },
  {
   "cell_type": "markdown",
   "metadata": {},
   "source": [
    "# 2. Rotina de *scraping*"
   ]
  },
  {
   "cell_type": "markdown",
   "metadata": {},
   "source": [
    "## 2.1. Abertura do *browser*"
   ]
  },
  {
   "cell_type": "code",
   "execution_count": 2,
   "metadata": {},
   "outputs": [],
   "source": [
    "url = 'https://www.xbox.com/pt-br/xbox-game-pass/games?xr=shellnav'"
   ]
  },
  {
   "cell_type": "code",
   "execution_count": 3,
   "metadata": {},
   "outputs": [],
   "source": [
    "webdriver = dc.Webdriver()"
   ]
  },
  {
   "cell_type": "code",
   "execution_count": 4,
   "metadata": {},
   "outputs": [],
   "source": [
    "browser = webdriver.set_driver(headless=True)\n",
    "browser.get(url)"
   ]
  },
  {
   "cell_type": "markdown",
   "metadata": {},
   "source": [
    "## 2.2. Coleta dos *links* para as páginas dos jogos"
   ]
  },
  {
   "cell_type": "code",
   "execution_count": 5,
   "metadata": {},
   "outputs": [],
   "source": [
    "scrape = dc.Scrape(browser)"
   ]
  },
  {
   "cell_type": "code",
   "execution_count": 6,
   "metadata": {},
   "outputs": [],
   "source": [
    "# Ajuste da quantidade de jogos que são mostrados na página:\n",
    "\n",
    "mais_jogos_por_pagina = scrape.get_element(\n",
    "    path='//div[@data-placeholder=\"20 jogos por página\"]',\n",
    "    timeout=30\n",
    ")\n",
    "mais_jogos_por_pagina.click()\n",
    "\n",
    "duzentos_jogos_por_pagina = scrape.get_element(\n",
    "    path='//li[@id=\"unique-id-for-paglist-generated-select-menu-3\"]',\n",
    "    timeout=30\n",
    ")\n",
    "duzentos_jogos_por_pagina.click()"
   ]
  },
  {
   "cell_type": "code",
   "execution_count": 7,
   "metadata": {},
   "outputs": [],
   "source": [
    "# Função para obtenção dos links para as páginas dos jogos:\n",
    "\n",
    "def coleta_links_jogos(path: str):\n",
    "    links = scrape.get_elements(path=path, timeout=20)\n",
    "    links_list = list()\n",
    "\n",
    "    for link in links:\n",
    "        link = link.get_attribute('href')\n",
    "        links_list.append(link)\n",
    "\n",
    "    return links_list\n",
    "\n",
    "def prox_pagina(path: str):\n",
    "    botao_pagina = scrape.get_element(path=path, timeout=10)\n",
    "    botao_pagina.click()"
   ]
  },
  {
   "cell_type": "code",
   "execution_count": 8,
   "metadata": {},
   "outputs": [],
   "source": [
    "links_na_pagina = dict()"
   ]
  },
  {
   "cell_type": "code",
   "execution_count": 9,
   "metadata": {},
   "outputs": [],
   "source": [
    "for iteration in range(1, 4):\n",
    "    links_na_pagina[f'{iteration}'] = coleta_links_jogos(\n",
    "        path='//a[@class=\"gameDivLink\"]'\n",
    "    )\n",
    "\n",
    "    if iteration == 3:\n",
    "        break\n",
    "    \n",
    "    prox_pagina('//li[@class=\"paginatenext\"]//a[@class=\"c-glyph\"]')"
   ]
  },
  {
   "cell_type": "code",
   "execution_count": 10,
   "metadata": {},
   "outputs": [],
   "source": [
    "browser.quit()"
   ]
  },
  {
   "cell_type": "markdown",
   "metadata": {},
   "source": [
    "## 2.3. Coleta dos dados sobre os jogos"
   ]
  },
  {
   "cell_type": "code",
   "execution_count": 11,
   "metadata": {},
   "outputs": [],
   "source": [
    "dados_jogo = dict()\n",
    "dados_jogos = list()"
   ]
  },
  {
   "cell_type": "code",
   "execution_count": 12,
   "metadata": {},
   "outputs": [],
   "source": [
    "# for jogos in jogos_na_pagina[:10]:\n",
    "#     link_jogo = jogos.get_attribute('href') # link para página do jogo.\n",
    "#     browser.execute_script(\"window.open('', '_blank');\") # abre uma nova aba do Chrome.\n",
    "\n",
    "#     # Seleciona-se a aba aberta e o link para o jogo é aberto:\n",
    "#     scrape.switch_tab(tab=1, timeout=10)\n",
    "#     browser.get(link_jogo)\n",
    "    \n",
    "#     # Scraping dos dados sobre o jogo:\n",
    "#     dados_jogo['nome_jogo'] = scrape.get_element(\n",
    "#         path='//h1[@class=\"typography-module__xdsH1___7oFBA ProductDetailsHeader-module__productTitle___Hce0B ProductDetailsHeaderProductTitle\"]',\n",
    "#         timeout=30\n",
    "#     ).text\n",
    "\n",
    "#     dados_jogo['span'] = scrape.get_element(\n",
    "#         path='//div[@class=\"typography-module__xdsSubTitle1___N02-X ProductDetailsHeader-module__productInfoLine___W-v+p ProductInfoLinePublisherName\"]',\n",
    "#         timeout=30\n",
    "#     ).text\n",
    "\n",
    "#     dados_jogos.append(dados_jogo.copy())\n",
    "\n",
    "#     browser.close()\n",
    "#     scrape.switch_tab(tab=0, timeout=10)\n",
    "\n",
    "# print(dados_jogos)\n",
    "\n",
    "    \n",
    "\n",
    "\n",
    "    "
   ]
  },
  {
   "cell_type": "code",
   "execution_count": 13,
   "metadata": {},
   "outputs": [],
   "source": [
    "for iteration in links_na_pagina.keys():\n",
    "    for link in links_na_pagina[f'{iteration}']:\n",
    "        \n",
    "        soup = dc.Soup(link)\n",
    "        soup = soup.get_soup()\n",
    "\n",
    "        dados_jogo['name'] = scrape.find_element(\n",
    "            tag='h1', timeout=5, soup=soup,\n",
    "            tag_class='typography-module__xdsH1___7oFBA ProductDetailsHeader-module__productTitle___Hce0B ProductDetailsHeaderProductTitle'\n",
    "        ).get_text()\n",
    "\n",
    "        dados_jogo['span'] = scrape.find_element(\n",
    "            tag='div', timeout=1, soup=soup,\n",
    "            tag_class='typography-module__xdsSubTitle1___N02-X ProductDetailsHeader-module__productInfoLine___W-v+p ProductInfoLinePublisherName'\n",
    "        ).get_text()\n",
    "\n",
    "        infos = scrape.find_element(\n",
    "            tag='div', timeout=1, soup=soup,\n",
    "            tag_class='ModuleRow-module__row___N1V3E Description-module__details___34Tnw'\n",
    "        )\n",
    "\n",
    "\n",
    "        infos = scrape.find_elements(\n",
    "            tag='div', timeout=1, soup=infos,\n",
    "            tag_class='typography-module__xdsBody2___RNdGY'\n",
    "        )\n",
    "\n",
    "        pub_dev_date = list()\n",
    "\n",
    "        for info in infos:\n",
    "            pub_dev_date.append(info.get_text())\n",
    "\n",
    "        dados_jogo['pub_dev_date'] = pub_dev_date\n",
    "\n",
    "        devices = scrape.find_element(\n",
    "            tag='ul', timeout=1, soup=soup,\n",
    "            tag_class='FeaturesList-module__wrapper___KIw42 commonStyles-module__featureListStyle___8SVho'\n",
    "        )\n",
    "\n",
    "        devices = scrape.find_elements(\n",
    "            tag='li', timeout=1, soup=devices,\n",
    "            tag_class='commonStyles-module__basicContainer___8Vx5e FeaturesList-module__item___J8r6P typography-module__xdsTag3___87dP9'\n",
    "        )\n",
    "\n",
    "        devices_list = list()\n",
    "\n",
    "        for device in devices:\n",
    "            devices_list.append(device.get_text())\n",
    "        \n",
    "        dados_jogo['devices'] = devices_list\n",
    "\n",
    "        features = scrape.find_elements(\n",
    "            tag='ul', timeout=1, soup=soup,\n",
    "            tag_class='FeaturesList-module__wrapper___KIw42 commonStyles-module__featureListStyle___8SVho'\n",
    "        )\n",
    "        features = features[1]\n",
    "\n",
    "        features = scrape.find_elements(\n",
    "            tag='li', timeout=1, soup=features,\n",
    "            tag_class='commonStyles-module__basicContainer___8Vx5e FeaturesList-module__item___J8r6P typography-module__xdsTag3___87dP9'\n",
    "        )\n",
    "\n",
    "        features_list = list()\n",
    "\n",
    "        for feature in features:\n",
    "            features_list.append(feature.get_text())\n",
    "        \n",
    "        dados_jogo['features'] = features_list\n",
    "        dados_jogos.append(dados_jogo.copy())"
   ]
  },
  {
   "cell_type": "code",
   "execution_count": null,
   "metadata": {},
   "outputs": [],
   "source": [
    "dados_jogos"
   ]
  }
 ],
 "metadata": {
  "kernelspec": {
   "display_name": "Python 3",
   "language": "python",
   "name": "python3"
  },
  "language_info": {
   "codemirror_mode": {
    "name": "ipython",
    "version": 3
   },
   "file_extension": ".py",
   "mimetype": "text/x-python",
   "name": "python",
   "nbconvert_exporter": "python",
   "pygments_lexer": "ipython3",
   "version": "3.11.5"
  },
  "orig_nbformat": 4
 },
 "nbformat": 4,
 "nbformat_minor": 2
}
