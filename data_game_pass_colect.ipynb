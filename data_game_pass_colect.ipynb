{
 "cells": [
  {
   "cell_type": "code",
   "execution_count": 1,
   "metadata": {},
   "outputs": [],
   "source": [
    "import dataprocessing.datacolect as dc\n",
    "# from selenium.webdriver.common.keys import Keys\n",
    "# from selenium.webdriver.common.by import By"
   ]
  },
  {
   "cell_type": "markdown",
   "metadata": {},
   "source": [
    "# 1. Sobre a coleta"
   ]
  },
  {
   "cell_type": "markdown",
   "metadata": {},
   "source": [
    "# 2. Rotina de *scraping*"
   ]
  },
  {
   "cell_type": "markdown",
   "metadata": {},
   "source": [
    "## 2.1. Abertura do *browser*"
   ]
  },
  {
   "cell_type": "code",
   "execution_count": 2,
   "metadata": {},
   "outputs": [],
   "source": [
    "url = 'https://www.xbox.com/pt-br/xbox-game-pass/games?xr=shellnav'"
   ]
  },
  {
   "cell_type": "code",
   "execution_count": 3,
   "metadata": {},
   "outputs": [],
   "source": [
    "webdriver = dc.Webdriver()"
   ]
  },
  {
   "cell_type": "code",
   "execution_count": 4,
   "metadata": {},
   "outputs": [],
   "source": [
    "browser = webdriver.set_driver()\n",
    "browser.get(url)"
   ]
  },
  {
   "cell_type": "markdown",
   "metadata": {},
   "source": [
    "## 2.2. Coleta dos dados"
   ]
  },
  {
   "cell_type": "code",
   "execution_count": 5,
   "metadata": {},
   "outputs": [],
   "source": [
    "scrape = dc.Scrape(browser)"
   ]
  },
  {
   "cell_type": "code",
   "execution_count": 6,
   "metadata": {},
   "outputs": [],
   "source": [
    "# Ajuste da quantidade de jogos que são mostrados na página:\n",
    "\n",
    "mais_jogos_por_pagina = scrape.get_element(\n",
    "    path='//div[@data-placeholder=\"20 jogos por página\"]',\n",
    "    timeout=50\n",
    ")\n",
    "mais_jogos_por_pagina.click()\n",
    "\n",
    "duzentos_jogos_por_pagina = scrape.get_element(\n",
    "    path='//li[@id=\"unique-id-for-paglist-generated-select-menu-3\"]',\n",
    "    timeout=30\n",
    ")\n",
    "duzentos_jogos_por_pagina.click()"
   ]
  },
  {
   "cell_type": "code",
   "execution_count": 7,
   "metadata": {},
   "outputs": [],
   "source": [
    "# Obtendo os links para os jogos:\n",
    "\n",
    "jogos_na_pagina = scrape.get_elements(\n",
    "    path='//a[@class=\"gameDivLink\"]',\n",
    "    timeout=20\n",
    ")"
   ]
  },
  {
   "cell_type": "markdown",
   "metadata": {},
   "source": [
    "## 2.3. Coleta dos dados sobre os jogos"
   ]
  },
  {
   "cell_type": "code",
   "execution_count": 8,
   "metadata": {},
   "outputs": [],
   "source": [
    "dados_jogo = dict()\n",
    "dados_jogos = list()"
   ]
  },
  {
   "cell_type": "code",
   "execution_count": 9,
   "metadata": {},
   "outputs": [
    {
     "ename": "TimeoutException",
     "evalue": "Message: \nStacktrace:\n\tGetHandleVerifier [0x00007FF69EDB7862+54818]\n\t(No symbol) [0x00007FF69ED26A92]\n\t(No symbol) [0x00007FF69EBDDA3B]\n\t(No symbol) [0x00007FF69EC1E4FC]\n\t(No symbol) [0x00007FF69EC1E67C]\n\t(No symbol) [0x00007FF69EC59627]\n\t(No symbol) [0x00007FF69EC3EAEF]\n\t(No symbol) [0x00007FF69EC575A2]\n\t(No symbol) [0x00007FF69EC3E883]\n\t(No symbol) [0x00007FF69EC13691]\n\t(No symbol) [0x00007FF69EC148D4]\n\tGetHandleVerifier [0x00007FF69F11B962+3610402]\n\tGetHandleVerifier [0x00007FF69F171830+3962352]\n\tGetHandleVerifier [0x00007FF69F169D1F+3930847]\n\tGetHandleVerifier [0x00007FF69EE53616+693206]\n\t(No symbol) [0x00007FF69ED315F8]\n\t(No symbol) [0x00007FF69ED2D904]\n\t(No symbol) [0x00007FF69ED2DA32]\n\t(No symbol) [0x00007FF69ED1E0E3]\n\tBaseThreadInitThunk [0x00007FFF27E17344+20]\n\tRtlUserThreadStart [0x00007FFF28D626B1+33]\n",
     "output_type": "error",
     "traceback": [
      "\u001b[1;31m---------------------------------------------------------------------------\u001b[0m",
      "\u001b[1;31mTimeoutException\u001b[0m                          Traceback (most recent call last)",
      "\u001b[1;32mc:\\Users\\damod\\OneDrive\\Área de Trabalho\\Projetos Python\\Gamepass\\data_game_pass_colect.ipynb Cell 14\u001b[0m line \u001b[0;36m1\n\u001b[0;32m      <a href='vscode-notebook-cell:/c%3A/Users/damod/OneDrive/%C3%81rea%20de%20Trabalho/Projetos%20Python/Gamepass/data_game_pass_colect.ipynb#X16sZmlsZQ%3D%3D?line=6'>7</a>\u001b[0m browser\u001b[39m.\u001b[39mget(link_jogo)\n\u001b[0;32m      <a href='vscode-notebook-cell:/c%3A/Users/damod/OneDrive/%C3%81rea%20de%20Trabalho/Projetos%20Python/Gamepass/data_game_pass_colect.ipynb#X16sZmlsZQ%3D%3D?line=8'>9</a>\u001b[0m \u001b[39m# Scraping dos dados sobre o jogo:\u001b[39;00m\n\u001b[1;32m---> <a href='vscode-notebook-cell:/c%3A/Users/damod/OneDrive/%C3%81rea%20de%20Trabalho/Projetos%20Python/Gamepass/data_game_pass_colect.ipynb#X16sZmlsZQ%3D%3D?line=9'>10</a>\u001b[0m dados_jogo[\u001b[39m'\u001b[39m\u001b[39mnome_jogo\u001b[39m\u001b[39m'\u001b[39m] \u001b[39m=\u001b[39m scrape\u001b[39m.\u001b[39;49mget_element(\n\u001b[0;32m     <a href='vscode-notebook-cell:/c%3A/Users/damod/OneDrive/%C3%81rea%20de%20Trabalho/Projetos%20Python/Gamepass/data_game_pass_colect.ipynb#X16sZmlsZQ%3D%3D?line=10'>11</a>\u001b[0m     path\u001b[39m=\u001b[39;49m \u001b[39m\"\"\"\u001b[39;49m\u001b[39m//a[@class=\u001b[39;49m\u001b[39m'\u001b[39;49m\u001b[39mtypography-module__xdsH1___7oFBA \u001b[39;49m\n\u001b[0;32m     <a href='vscode-notebook-cell:/c%3A/Users/damod/OneDrive/%C3%81rea%20de%20Trabalho/Projetos%20Python/Gamepass/data_game_pass_colect.ipynb#X16sZmlsZQ%3D%3D?line=11'>12</a>\u001b[0m \u001b[39m    ProductDetailsHeader-module__productTitle___\u001b[39;49m\n\u001b[0;32m     <a href='vscode-notebook-cell:/c%3A/Users/damod/OneDrive/%C3%81rea%20de%20Trabalho/Projetos%20Python/Gamepass/data_game_pass_colect.ipynb#X16sZmlsZQ%3D%3D?line=12'>13</a>\u001b[0m \u001b[39m    Hce0B ProductDetailsHeaderProductTitle\u001b[39;49m\u001b[39m'\u001b[39;49m\u001b[39m]\u001b[39;49m\u001b[39m\"\"\"\u001b[39;49m,\n\u001b[0;32m     <a href='vscode-notebook-cell:/c%3A/Users/damod/OneDrive/%C3%81rea%20de%20Trabalho/Projetos%20Python/Gamepass/data_game_pass_colect.ipynb#X16sZmlsZQ%3D%3D?line=13'>14</a>\u001b[0m     timeout\u001b[39m=\u001b[39;49m\u001b[39m30\u001b[39;49m\n\u001b[0;32m     <a href='vscode-notebook-cell:/c%3A/Users/damod/OneDrive/%C3%81rea%20de%20Trabalho/Projetos%20Python/Gamepass/data_game_pass_colect.ipynb#X16sZmlsZQ%3D%3D?line=14'>15</a>\u001b[0m )\u001b[39m.\u001b[39mtext\n\u001b[0;32m     <a href='vscode-notebook-cell:/c%3A/Users/damod/OneDrive/%C3%81rea%20de%20Trabalho/Projetos%20Python/Gamepass/data_game_pass_colect.ipynb#X16sZmlsZQ%3D%3D?line=16'>17</a>\u001b[0m dados_jogo[\u001b[39m'\u001b[39m\u001b[39mspan\u001b[39m\u001b[39m'\u001b[39m] \u001b[39m=\u001b[39m scrape\u001b[39m.\u001b[39mget_element(\n\u001b[0;32m     <a href='vscode-notebook-cell:/c%3A/Users/damod/OneDrive/%C3%81rea%20de%20Trabalho/Projetos%20Python/Gamepass/data_game_pass_colect.ipynb#X16sZmlsZQ%3D%3D?line=17'>18</a>\u001b[0m     path\u001b[39m=\u001b[39m\u001b[39m\"\"\"\u001b[39m\u001b[39m//div[@class=\u001b[39m\u001b[39m'\u001b[39m\u001b[39mtypography-module__xdsSubTitle1__\u001b[39m\n\u001b[0;32m     <a href='vscode-notebook-cell:/c%3A/Users/damod/OneDrive/%C3%81rea%20de%20Trabalho/Projetos%20Python/Gamepass/data_game_pass_colect.ipynb#X16sZmlsZQ%3D%3D?line=18'>19</a>\u001b[0m \u001b[39m    _N02-X ProductDetailsHeader-module__productInfoLine___\u001b[39m\n\u001b[0;32m     <a href='vscode-notebook-cell:/c%3A/Users/damod/OneDrive/%C3%81rea%20de%20Trabalho/Projetos%20Python/Gamepass/data_game_pass_colect.ipynb#X16sZmlsZQ%3D%3D?line=19'>20</a>\u001b[0m \u001b[39m    W-v+p ProductInfoLinePublisherName\u001b[39m\u001b[39m'\u001b[39m\u001b[39m]\u001b[39m\u001b[39m\"\"\"\u001b[39m,\n\u001b[0;32m     <a href='vscode-notebook-cell:/c%3A/Users/damod/OneDrive/%C3%81rea%20de%20Trabalho/Projetos%20Python/Gamepass/data_game_pass_colect.ipynb#X16sZmlsZQ%3D%3D?line=20'>21</a>\u001b[0m     timeout\u001b[39m=\u001b[39m\u001b[39m30\u001b[39m\n\u001b[0;32m     <a href='vscode-notebook-cell:/c%3A/Users/damod/OneDrive/%C3%81rea%20de%20Trabalho/Projetos%20Python/Gamepass/data_game_pass_colect.ipynb#X16sZmlsZQ%3D%3D?line=21'>22</a>\u001b[0m )\u001b[39m.\u001b[39mtext\n\u001b[0;32m     <a href='vscode-notebook-cell:/c%3A/Users/damod/OneDrive/%C3%81rea%20de%20Trabalho/Projetos%20Python/Gamepass/data_game_pass_colect.ipynb#X16sZmlsZQ%3D%3D?line=23'>24</a>\u001b[0m dados_jogos\u001b[39m.\u001b[39mappend(dados_jogo\u001b[39m.\u001b[39mcopy())\n",
      "File \u001b[1;32mc:\\Users\\damod\\OneDrive\\Área de Trabalho\\Projetos Python\\Gamepass\\dataprocessing\\datacolect.py:119\u001b[0m, in \u001b[0;36mScrape.get_element\u001b[1;34m(self, path, how, timeout)\u001b[0m\n\u001b[0;32m    110\u001b[0m \u001b[39mdef\u001b[39;00m \u001b[39mget_element\u001b[39m(\u001b[39mself\u001b[39m, path: \u001b[39mstr\u001b[39m, how: By\u001b[39m=\u001b[39mBy\u001b[39m.\u001b[39mXPATH, timeout: \u001b[39mint\u001b[39m\u001b[39m=\u001b[39m\u001b[39m3\u001b[39m):\n\u001b[0;32m    111\u001b[0m \u001b[39m    \u001b[39m\u001b[39m\"\"\"\u001b[39;00m\n\u001b[0;32m    112\u001b[0m \u001b[39m    Return the element in the path.\u001b[39;00m\n\u001b[0;32m    113\u001b[0m \u001b[39m    \u001b[39;00m\n\u001b[1;32m   (...)\u001b[0m\n\u001b[0;32m    117\u001b[0m \u001b[39m    timeout: set the time (seconds) until execute the method, default = 3.\u001b[39;00m\n\u001b[0;32m    118\u001b[0m \u001b[39m    \"\"\"\u001b[39;00m\n\u001b[1;32m--> 119\u001b[0m     element \u001b[39m=\u001b[39m WebDriverWait(\u001b[39mself\u001b[39;49m\u001b[39m.\u001b[39;49mwebdriver, timeout)\u001b[39m.\u001b[39;49muntil(\n\u001b[0;32m    120\u001b[0m         EC\u001b[39m.\u001b[39;49mpresence_of_element_located((how, path))\n\u001b[0;32m    121\u001b[0m     )\n\u001b[0;32m    122\u001b[0m     \u001b[39mreturn\u001b[39;00m element\u001b[39m.\u001b[39mfind_element(how, path)\n",
      "File \u001b[1;32m~\\AppData\\Local\\Packages\\PythonSoftwareFoundation.Python.3.11_qbz5n2kfra8p0\\LocalCache\\local-packages\\Python311\\site-packages\\selenium\\webdriver\\support\\wait.py:95\u001b[0m, in \u001b[0;36mWebDriverWait.until\u001b[1;34m(self, method, message)\u001b[0m\n\u001b[0;32m     93\u001b[0m     \u001b[39mif\u001b[39;00m time\u001b[39m.\u001b[39mmonotonic() \u001b[39m>\u001b[39m end_time:\n\u001b[0;32m     94\u001b[0m         \u001b[39mbreak\u001b[39;00m\n\u001b[1;32m---> 95\u001b[0m \u001b[39mraise\u001b[39;00m TimeoutException(message, screen, stacktrace)\n",
      "\u001b[1;31mTimeoutException\u001b[0m: Message: \nStacktrace:\n\tGetHandleVerifier [0x00007FF69EDB7862+54818]\n\t(No symbol) [0x00007FF69ED26A92]\n\t(No symbol) [0x00007FF69EBDDA3B]\n\t(No symbol) [0x00007FF69EC1E4FC]\n\t(No symbol) [0x00007FF69EC1E67C]\n\t(No symbol) [0x00007FF69EC59627]\n\t(No symbol) [0x00007FF69EC3EAEF]\n\t(No symbol) [0x00007FF69EC575A2]\n\t(No symbol) [0x00007FF69EC3E883]\n\t(No symbol) [0x00007FF69EC13691]\n\t(No symbol) [0x00007FF69EC148D4]\n\tGetHandleVerifier [0x00007FF69F11B962+3610402]\n\tGetHandleVerifier [0x00007FF69F171830+3962352]\n\tGetHandleVerifier [0x00007FF69F169D1F+3930847]\n\tGetHandleVerifier [0x00007FF69EE53616+693206]\n\t(No symbol) [0x00007FF69ED315F8]\n\t(No symbol) [0x00007FF69ED2D904]\n\t(No symbol) [0x00007FF69ED2DA32]\n\t(No symbol) [0x00007FF69ED1E0E3]\n\tBaseThreadInitThunk [0x00007FFF27E17344+20]\n\tRtlUserThreadStart [0x00007FFF28D626B1+33]\n"
     ]
    }
   ],
   "source": [
    "for jogos in jogos_na_pagina[:10]:\n",
    "    link_jogo = jogos.get_attribute('href') # link para página do jogo.\n",
    "    browser.execute_script(\"window.open('', '_blank');\") # abre uma nova aba do Chrome.\n",
    "\n",
    "    # Seleciona-se a aba aberta e o link para o jogo é aberto:\n",
    "    scrape.switch_tab(tab=1, timeout=10)\n",
    "    browser.get(link_jogo)\n",
    "    \n",
    "    # Scraping dos dados sobre o jogo:\n",
    "    dados_jogo['nome_jogo'] = scrape.get_element(\n",
    "        path= \"\"\"//a[@class='typography-module__xdsH1___7oFBA \n",
    "        ProductDetailsHeader-module__productTitle___\n",
    "        Hce0B ProductDetailsHeaderProductTitle']\"\"\",\n",
    "        timeout=30\n",
    "    ).text\n",
    "\n",
    "    dados_jogo['span'] = scrape.get_element(\n",
    "        path=\"\"\"//div[@class='typography-module__xdsSubTitle1__\n",
    "        _N02-X ProductDetailsHeader-module__productInfoLine___\n",
    "        W-v+p ProductInfoLinePublisherName']\"\"\",\n",
    "        timeout=30\n",
    "    ).text\n",
    "\n",
    "    dados_jogos.append(dados_jogo.copy())\n",
    "\n",
    "    browser.close()\n",
    "    scrape.switch_tab(tab=0, timeout=10)\n",
    "\n",
    "print(dados_jogos)\n",
    "\n",
    "    \n",
    "\n",
    "\n",
    "    "
   ]
  },
  {
   "cell_type": "code",
   "execution_count": null,
   "metadata": {},
   "outputs": [],
   "source": []
  }
 ],
 "metadata": {
  "kernelspec": {
   "display_name": "Python 3",
   "language": "python",
   "name": "python3"
  },
  "language_info": {
   "codemirror_mode": {
    "name": "ipython",
    "version": 3
   },
   "file_extension": ".py",
   "mimetype": "text/x-python",
   "name": "python",
   "nbconvert_exporter": "python",
   "pygments_lexer": "ipython3",
   "version": "3.11.5"
  },
  "orig_nbformat": 4
 },
 "nbformat": 4,
 "nbformat_minor": 2
}
