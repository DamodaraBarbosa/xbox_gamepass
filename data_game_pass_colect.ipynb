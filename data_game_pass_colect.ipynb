{
 "cells": [
  {
   "cell_type": "code",
   "execution_count": 1,
   "metadata": {},
   "outputs": [],
   "source": [
    "import dataprocessing.datacolect as dc\n",
    "# from selenium.webdriver.common.keys import Keys\n",
    "# from selenium.webdriver.common.by import By"
   ]
  },
  {
   "cell_type": "markdown",
   "metadata": {},
   "source": [
    "# 1. Sobre a coleta"
   ]
  },
  {
   "cell_type": "markdown",
   "metadata": {},
   "source": [
    "# 2. Rotina de *scraping*"
   ]
  },
  {
   "cell_type": "markdown",
   "metadata": {},
   "source": [
    "## 2.1. Abertura do *browser*"
   ]
  },
  {
   "cell_type": "code",
   "execution_count": 2,
   "metadata": {},
   "outputs": [],
   "source": [
    "url = 'https://www.xbox.com/pt-br/xbox-game-pass/games?xr=shellnav'"
   ]
  },
  {
   "cell_type": "code",
   "execution_count": 3,
   "metadata": {},
   "outputs": [],
   "source": [
    "webdriver = dc.Webdriver()"
   ]
  },
  {
   "cell_type": "code",
   "execution_count": 4,
   "metadata": {},
   "outputs": [],
   "source": [
    "browser = webdriver.set_driver(headless=True)\n",
    "browser.get(url)"
   ]
  },
  {
   "cell_type": "markdown",
   "metadata": {},
   "source": [
    "## 2.2. Coleta dos *links* para as páginas dos jogos"
   ]
  },
  {
   "cell_type": "code",
   "execution_count": 5,
   "metadata": {},
   "outputs": [],
   "source": [
    "scrape = dc.Scrape(browser)"
   ]
  },
  {
   "cell_type": "code",
   "execution_count": 6,
   "metadata": {},
   "outputs": [],
   "source": [
    "# Ajuste da quantidade de jogos que são mostrados na página:\n",
    "\n",
    "mais_jogos_por_pagina = scrape.get_element(\n",
    "    path='//div[@data-placeholder=\"20 jogos por página\"]',\n",
    "    timeout=30\n",
    ")\n",
    "mais_jogos_por_pagina.click()\n",
    "\n",
    "duzentos_jogos_por_pagina = scrape.get_element(\n",
    "    path='//li[@id=\"unique-id-for-paglist-generated-select-menu-3\"]',\n",
    "    timeout=30\n",
    ")\n",
    "duzentos_jogos_por_pagina.click()"
   ]
  },
  {
   "cell_type": "code",
   "execution_count": 7,
   "metadata": {},
   "outputs": [],
   "source": [
    "# Função para obtenção dos links para as páginas dos jogos:\n",
    "\n",
    "def coleta_links_jogos(path: str):\n",
    "    links = scrape.get_elements(path=path, timeout=20)\n",
    "    links_list = list()\n",
    "\n",
    "    for link in links:\n",
    "        link = link.get_attribute('href')\n",
    "        links_list.append(link)\n",
    "\n",
    "    return links_list\n",
    "\n",
    "def prox_pagina(path: str):\n",
    "    botao_pagina = scrape.get_element(path=path, timeout=10)\n",
    "    botao_pagina.click()"
   ]
  },
  {
   "cell_type": "code",
   "execution_count": 8,
   "metadata": {},
   "outputs": [],
   "source": [
    "links_na_pagina = dict()"
   ]
  },
  {
   "cell_type": "code",
   "execution_count": 9,
   "metadata": {},
   "outputs": [],
   "source": [
    "for iteration in range(1, 4):\n",
    "    links_na_pagina[f'{iteration}'] = coleta_links_jogos(\n",
    "        path='//a[@class=\"gameDivLink\"]'\n",
    "    )\n",
    "\n",
    "    if iteration == 3:\n",
    "        break\n",
    "    \n",
    "    prox_pagina('//li[@class=\"paginatenext\"]//a[@class=\"c-glyph\"]')"
   ]
  },
  {
   "cell_type": "code",
   "execution_count": 10,
   "metadata": {},
   "outputs": [],
   "source": [
    "browser.quit()"
   ]
  },
  {
   "cell_type": "markdown",
   "metadata": {},
   "source": [
    "## 2.3. Coleta dos dados sobre os jogos"
   ]
  },
  {
   "cell_type": "code",
   "execution_count": 11,
   "metadata": {},
   "outputs": [],
   "source": [
    "dados_jogo = dict()\n",
    "dados_jogos = list()"
   ]
  },
  {
   "cell_type": "code",
   "execution_count": 12,
   "metadata": {},
   "outputs": [],
   "source": [
    "# for jogos in jogos_na_pagina[:10]:\n",
    "#     link_jogo = jogos.get_attribute('href') # link para página do jogo.\n",
    "#     browser.execute_script(\"window.open('', '_blank');\") # abre uma nova aba do Chrome.\n",
    "\n",
    "#     # Seleciona-se a aba aberta e o link para o jogo é aberto:\n",
    "#     scrape.switch_tab(tab=1, timeout=10)\n",
    "#     browser.get(link_jogo)\n",
    "    \n",
    "#     # Scraping dos dados sobre o jogo:\n",
    "#     dados_jogo['nome_jogo'] = scrape.get_element(\n",
    "#         path='//h1[@class=\"typography-module__xdsH1___7oFBA ProductDetailsHeader-module__productTitle___Hce0B ProductDetailsHeaderProductTitle\"]',\n",
    "#         timeout=30\n",
    "#     ).text\n",
    "\n",
    "#     dados_jogo['span'] = scrape.get_element(\n",
    "#         path='//div[@class=\"typography-module__xdsSubTitle1___N02-X ProductDetailsHeader-module__productInfoLine___W-v+p ProductInfoLinePublisherName\"]',\n",
    "#         timeout=30\n",
    "#     ).text\n",
    "\n",
    "#     dados_jogos.append(dados_jogo.copy())\n",
    "\n",
    "#     browser.close()\n",
    "#     scrape.switch_tab(tab=0, timeout=10)\n",
    "\n",
    "# print(dados_jogos)\n",
    "\n",
    "    \n",
    "\n",
    "\n",
    "    "
   ]
  },
  {
   "cell_type": "code",
   "execution_count": 13,
   "metadata": {},
   "outputs": [
    {
     "name": "stdout",
     "output_type": "stream",
     "text": [
      "https://www.xbox.com/pt-br/games/store/payday-3/9NPZVDCH73SX\n",
      "https://www.xbox.com/pt-br/games/store/solar-ash/9NWLPG23T46V\n",
      "https://www.xbox.com/pt-br/games/store/starfield/9NCJSXWZTP88\n",
      "https://www.xbox.com/pt-br/games/store/party-animals/9MZ08RDQ4DM1\n",
      "https://www.xbox.com/pt-br/games/store/the-texas-chain-saw-massacre/9P9F54WDBGH6\n",
      "https://www.xbox.com/pt-br/games/store/lies-of-p/9PCM4CMTPPGC\n",
      "https://www.xbox.com/pt-br/games/store/age-of-empires-iv-edio-de-aniversrio/9PHH1ZWRSZ41\n",
      "https://www.xbox.com/pt-br/games/store/serious-sam-siberian-mayhem/9P2W3XCT75V2\n",
      "https://www.xbox.com/pt-br/games/store/celeste/BWMQL2RPWBHB\n",
      "https://www.xbox.com/pt-br/games/store/firewatch/BQQKG9H2STC0\n",
      "https://www.xbox.com/pt-br/games/store/spiritfarer-edio-farewell/9NG5L58FD3X5\n",
      "https://www.xbox.com/pt-br/games/store/limbo/BTQMHK78ZPF9\n",
      "https://www.xbox.com/pt-br/games/store/humankind/9MZ01WJM4MK1\n",
      "https://www.xbox.com/pt-br/games/store/everspace-2/9PFX7F33KVG8\n",
      "https://www.xbox.com/pt-br/games/store/quake-ii/9P7L9H478GGV\n",
      "https://www.xbox.com/pt-br/games/store/sea-of-stars/9NLLTTJZH40L\n",
      "https://www.xbox.com/pt-br/games/store/gris/9N6C6J7C3GTQ\n",
      "https://www.xbox.com/pt-br/games/store/call-of-the-wild-the-angler/9NDC5LJS839S\n",
      "https://www.xbox.com/pt-br/games/store/broforce/9P03ZQMBMV65\n",
      "https://www.xbox.com/pt-br/games/store/a-short-hike/9NK78DF207SD\n",
      "https://www.xbox.com/pt-br/games/store/venba/9P5P55S7HB9S\n",
      "https://www.xbox.com/pt-br/games/store/7-days-to-die/BRL7GC0GP1BM\n",
      "https://www.xbox.com/pt-br/games/store/a-plague-tale-requiem/9ND0JVB184XL\n",
      "https://www.xbox.com/pt-br/games/store/a-way-out/BWVBNCMF22ZK\n",
      "https://www.xbox.com/pt-br/games/store/age-of-empires-ii-definitive-edition/9N2Z748SPMTM\n",
      "https://www.xbox.com/pt-br/games/store/alice-madness-returns/BSNZHRCKC13J\n",
      "https://www.xbox.com/pt-br/games/store/amnesia-collection/BV02TBL15DX3\n",
      "https://www.xbox.com/pt-br/games/store/amnesia-rebirth/9PMM21KVRD72\n",
      "https://www.xbox.com/pt-br/games/store/amnesia-the-bunker/9PC15H56NGJK\n",
      "https://www.xbox.com/pt-br/games/store/among-us/9NG07QJNK38J\n",
      "https://www.xbox.com/pt-br/games/store/anthem/BP9JQBJM0FNW\n",
      "https://www.xbox.com/pt-br/games/store/anvil--vault-breaker-game-preview/9PJPV2PC3MWR\n",
      "https://www.xbox.com/pt-br/games/store/arcade-paradise/9N2FQCGWH32D\n",
      "https://www.xbox.com/pt-br/games/store/ark-ultimate-survivor-edition/9N5JRWWGMS1R\n",
      "https://www.xbox.com/pt-br/games/store/army-of-two/C1LM235H6FZ1\n",
      "https://www.xbox.com/pt-br/games/store/as-dusk-falls/9NR7XDNVP5SW\n",
      "https://www.xbox.com/pt-br/games/assassins-creed-odyssey\n"
     ]
    },
    {
     "ename": "AttributeError",
     "evalue": "'NoneType' object has no attribute 'get_text'",
     "output_type": "error",
     "traceback": [
      "\u001b[1;31m---------------------------------------------------------------------------\u001b[0m",
      "\u001b[1;31mAttributeError\u001b[0m                            Traceback (most recent call last)",
      "\u001b[1;32mc:\\Users\\damod\\OneDrive\\Área de Trabalho\\Projetos Python\\gamepass\\data_game_pass_colect.ipynb Cell 18\u001b[0m line \u001b[0;36m1\n\u001b[0;32m      <a href='vscode-notebook-cell:/c%3A/Users/damod/OneDrive/%C3%81rea%20de%20Trabalho/Projetos%20Python/gamepass/data_game_pass_colect.ipynb#X23sZmlsZQ%3D%3D?line=4'>5</a>\u001b[0m soup \u001b[39m=\u001b[39m dc\u001b[39m.\u001b[39mSoup(link)\n\u001b[0;32m      <a href='vscode-notebook-cell:/c%3A/Users/damod/OneDrive/%C3%81rea%20de%20Trabalho/Projetos%20Python/gamepass/data_game_pass_colect.ipynb#X23sZmlsZQ%3D%3D?line=5'>6</a>\u001b[0m soup \u001b[39m=\u001b[39m soup\u001b[39m.\u001b[39mget_soup()\n\u001b[0;32m      <a href='vscode-notebook-cell:/c%3A/Users/damod/OneDrive/%C3%81rea%20de%20Trabalho/Projetos%20Python/gamepass/data_game_pass_colect.ipynb#X23sZmlsZQ%3D%3D?line=7'>8</a>\u001b[0m dados_jogo[\u001b[39m'\u001b[39m\u001b[39mname\u001b[39m\u001b[39m'\u001b[39m] \u001b[39m=\u001b[39m scrape\u001b[39m.\u001b[39;49mfind_element(\n\u001b[0;32m      <a href='vscode-notebook-cell:/c%3A/Users/damod/OneDrive/%C3%81rea%20de%20Trabalho/Projetos%20Python/gamepass/data_game_pass_colect.ipynb#X23sZmlsZQ%3D%3D?line=8'>9</a>\u001b[0m     tag\u001b[39m=\u001b[39;49m\u001b[39m'\u001b[39;49m\u001b[39mh1\u001b[39;49m\u001b[39m'\u001b[39;49m, timeout\u001b[39m=\u001b[39;49m\u001b[39m5\u001b[39;49m, soup\u001b[39m=\u001b[39;49msoup,\n\u001b[0;32m     <a href='vscode-notebook-cell:/c%3A/Users/damod/OneDrive/%C3%81rea%20de%20Trabalho/Projetos%20Python/gamepass/data_game_pass_colect.ipynb#X23sZmlsZQ%3D%3D?line=9'>10</a>\u001b[0m     tag_class\u001b[39m=\u001b[39;49m\u001b[39m'\u001b[39;49m\u001b[39mtypography-module__xdsH1___7oFBA ProductDetailsHeader-module__productTitle___Hce0B ProductDetailsHeaderProductTitle\u001b[39;49m\u001b[39m'\u001b[39;49m\n\u001b[1;32m---> <a href='vscode-notebook-cell:/c%3A/Users/damod/OneDrive/%C3%81rea%20de%20Trabalho/Projetos%20Python/gamepass/data_game_pass_colect.ipynb#X23sZmlsZQ%3D%3D?line=10'>11</a>\u001b[0m )\u001b[39m.\u001b[39;49mget_text()\n\u001b[0;32m     <a href='vscode-notebook-cell:/c%3A/Users/damod/OneDrive/%C3%81rea%20de%20Trabalho/Projetos%20Python/gamepass/data_game_pass_colect.ipynb#X23sZmlsZQ%3D%3D?line=12'>13</a>\u001b[0m dados_jogo[\u001b[39m'\u001b[39m\u001b[39mspan\u001b[39m\u001b[39m'\u001b[39m] \u001b[39m=\u001b[39m scrape\u001b[39m.\u001b[39mfind_element(\n\u001b[0;32m     <a href='vscode-notebook-cell:/c%3A/Users/damod/OneDrive/%C3%81rea%20de%20Trabalho/Projetos%20Python/gamepass/data_game_pass_colect.ipynb#X23sZmlsZQ%3D%3D?line=13'>14</a>\u001b[0m     tag\u001b[39m=\u001b[39m\u001b[39m'\u001b[39m\u001b[39mdiv\u001b[39m\u001b[39m'\u001b[39m, timeout\u001b[39m=\u001b[39m\u001b[39m1\u001b[39m, soup\u001b[39m=\u001b[39msoup,\n\u001b[0;32m     <a href='vscode-notebook-cell:/c%3A/Users/damod/OneDrive/%C3%81rea%20de%20Trabalho/Projetos%20Python/gamepass/data_game_pass_colect.ipynb#X23sZmlsZQ%3D%3D?line=14'>15</a>\u001b[0m     tag_class\u001b[39m=\u001b[39m\u001b[39m'\u001b[39m\u001b[39mtypography-module__xdsSubTitle1___N02-X ProductDetailsHeader-module__productInfoLine___W-v+p ProductInfoLinePublisherName\u001b[39m\u001b[39m'\u001b[39m\n\u001b[0;32m     <a href='vscode-notebook-cell:/c%3A/Users/damod/OneDrive/%C3%81rea%20de%20Trabalho/Projetos%20Python/gamepass/data_game_pass_colect.ipynb#X23sZmlsZQ%3D%3D?line=15'>16</a>\u001b[0m )\u001b[39m.\u001b[39mget_text()\n\u001b[0;32m     <a href='vscode-notebook-cell:/c%3A/Users/damod/OneDrive/%C3%81rea%20de%20Trabalho/Projetos%20Python/gamepass/data_game_pass_colect.ipynb#X23sZmlsZQ%3D%3D?line=17'>18</a>\u001b[0m infos \u001b[39m=\u001b[39m scrape\u001b[39m.\u001b[39mfind_element(\n\u001b[0;32m     <a href='vscode-notebook-cell:/c%3A/Users/damod/OneDrive/%C3%81rea%20de%20Trabalho/Projetos%20Python/gamepass/data_game_pass_colect.ipynb#X23sZmlsZQ%3D%3D?line=18'>19</a>\u001b[0m     tag\u001b[39m=\u001b[39m\u001b[39m'\u001b[39m\u001b[39mdiv\u001b[39m\u001b[39m'\u001b[39m, timeout\u001b[39m=\u001b[39m\u001b[39m1\u001b[39m, soup\u001b[39m=\u001b[39msoup,\n\u001b[0;32m     <a href='vscode-notebook-cell:/c%3A/Users/damod/OneDrive/%C3%81rea%20de%20Trabalho/Projetos%20Python/gamepass/data_game_pass_colect.ipynb#X23sZmlsZQ%3D%3D?line=19'>20</a>\u001b[0m     tag_class\u001b[39m=\u001b[39m\u001b[39m'\u001b[39m\u001b[39mModuleRow-module__row___N1V3E Description-module__details___34Tnw\u001b[39m\u001b[39m'\u001b[39m\n\u001b[0;32m     <a href='vscode-notebook-cell:/c%3A/Users/damod/OneDrive/%C3%81rea%20de%20Trabalho/Projetos%20Python/gamepass/data_game_pass_colect.ipynb#X23sZmlsZQ%3D%3D?line=20'>21</a>\u001b[0m )\n",
      "\u001b[1;31mAttributeError\u001b[0m: 'NoneType' object has no attribute 'get_text'"
     ]
    }
   ],
   "source": [
    "for iteration in links_na_pagina.keys():\n",
    "    for link in links_na_pagina[f'{iteration}']:        \n",
    "        soup = dc.Soup(link)\n",
    "        soup = soup.get_soup()\n",
    "\n",
    "        dados_jogo['name'] = scrape.find_element(\n",
    "            tag='h1', timeout=5, soup=soup,\n",
    "            tag_class='typography-module__xdsH1___7oFBA ProductDetailsHeader-module__productTitle___Hce0B ProductDetailsHeaderProductTitle'\n",
    "        ).get_text()\n",
    "\n",
    "        dados_jogo['span'] = scrape.find_element(\n",
    "            tag='div', timeout=1, soup=soup,\n",
    "            tag_class='typography-module__xdsSubTitle1___N02-X ProductDetailsHeader-module__productInfoLine___W-v+p ProductInfoLinePublisherName'\n",
    "        ).get_text()\n",
    "\n",
    "        infos = scrape.find_element(\n",
    "            tag='div', timeout=1, soup=soup,\n",
    "            tag_class='ModuleRow-module__row___N1V3E Description-module__details___34Tnw'\n",
    "        )\n",
    "\n",
    "\n",
    "        infos = scrape.find_elements(\n",
    "            tag='div', timeout=1, soup=infos,\n",
    "            tag_class='typography-module__xdsBody2___RNdGY'\n",
    "        )\n",
    "\n",
    "        pub_dev_date = list()\n",
    "\n",
    "        for info in infos:\n",
    "            pub_dev_date.append(info.get_text())\n",
    "\n",
    "        dados_jogo['pub_dev_date'] = pub_dev_date\n",
    "\n",
    "        devices = scrape.find_element(\n",
    "            tag='ul', timeout=1, soup=soup,\n",
    "            tag_class='FeaturesList-module__wrapper___KIw42 commonStyles-module__featureListStyle___8SVho'\n",
    "        )\n",
    "\n",
    "        devices = scrape.find_elements(\n",
    "            tag='li', timeout=1, soup=devices,\n",
    "            tag_class='commonStyles-module__basicContainer___8Vx5e FeaturesList-module__item___J8r6P typography-module__xdsTag3___87dP9'\n",
    "        )\n",
    "\n",
    "        devices_list = list()\n",
    "\n",
    "        for device in devices:\n",
    "            devices_list.append(device.get_text())\n",
    "        \n",
    "        dados_jogo['devices'] = devices_list\n",
    "\n",
    "        features = scrape.find_elements(\n",
    "            tag='ul', timeout=1, soup=soup,\n",
    "            tag_class='FeaturesList-module__wrapper___KIw42 commonStyles-module__featureListStyle___8SVho'\n",
    "        )\n",
    "        features = features[1]\n",
    "\n",
    "        features = scrape.find_elements(\n",
    "            tag='li', timeout=1, soup=features,\n",
    "            tag_class='commonStyles-module__basicContainer___8Vx5e FeaturesList-module__item___J8r6P typography-module__xdsTag3___87dP9'\n",
    "        )\n",
    "\n",
    "        features_list = list()\n",
    "\n",
    "        for feature in features:\n",
    "            features_list.append(feature.get_text())\n",
    "        \n",
    "        dados_jogo['features'] = features_list\n",
    "        dados_jogos.append(dados_jogo.copy())"
   ]
  },
  {
   "cell_type": "code",
   "execution_count": null,
   "metadata": {},
   "outputs": [],
   "source": [
    "len(dados_jogos)"
   ]
  }
 ],
 "metadata": {
  "kernelspec": {
   "display_name": "Python 3",
   "language": "python",
   "name": "python3"
  },
  "language_info": {
   "codemirror_mode": {
    "name": "ipython",
    "version": 3
   },
   "file_extension": ".py",
   "mimetype": "text/x-python",
   "name": "python",
   "nbconvert_exporter": "python",
   "pygments_lexer": "ipython3",
   "version": "3.11.6"
  },
  "orig_nbformat": 4
 },
 "nbformat": 4,
 "nbformat_minor": 2
}
